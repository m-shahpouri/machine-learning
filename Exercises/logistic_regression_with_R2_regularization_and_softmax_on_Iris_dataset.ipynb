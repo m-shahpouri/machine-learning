{
  "nbformat": 4,
  "nbformat_minor": 0,
  "metadata": {
    "colab": {
      "name": "logistic regression with R2 regularization and softmax on Iris dataset.ipynb",
      "provenance": [],
      "collapsed_sections": []
    },
    "kernelspec": {
      "display_name": "Python 3",
      "language": "python",
      "name": "python3"
    },
    "language_info": {
      "codemirror_mode": {
        "name": "ipython",
        "version": 3
      },
      "file_extension": ".py",
      "mimetype": "text/x-python",
      "name": "python",
      "nbconvert_exporter": "python",
      "pygments_lexer": "ipython3",
      "version": "3.5.6"
    }
  },
  "cells": [
    {
      "cell_type": "markdown",
      "metadata": {
        "id": "Mx39Usgju_B6"
      },
      "source": [
        "# **Logistic regression with R2 regularization and softmax on Iris dataset**\r\n",
        "\r\n",
        "# **Import packages**"
      ]
    },
    {
      "cell_type": "code",
      "metadata": {
        "id": "obvK89vau_CE"
      },
      "source": [
        "import numpy as np\n",
        "import pandas as pd\n",
        "import seaborn as sns \n",
        "from matplotlib import pyplot as plt"
      ],
      "execution_count": 1,
      "outputs": []
    },
    {
      "cell_type": "markdown",
      "metadata": {
        "id": "TUg5RFUX16ZD"
      },
      "source": [
        "# **Load data**"
      ]
    },
    {
      "cell_type": "code",
      "metadata": {
        "colab": {
          "base_uri": "https://localhost:8080/",
          "height": 204
        },
        "id": "q2UAKKuCu_CF",
        "outputId": "554b932a-1c1f-4ffe-c11f-7dec15622d01"
      },
      "source": [
        "from sklearn.datasets import load_iris\n",
        "\n",
        "iris_dataset = load_iris()\n",
        "iris = pd.DataFrame(iris_dataset.data, columns=iris_dataset.feature_names)\n",
        "iris['class'] = iris_dataset.target\n",
        "iris.head()"
      ],
      "execution_count": 2,
      "outputs": [
        {
          "output_type": "execute_result",
          "data": {
            "text/html": [
              "<div>\n",
              "<style scoped>\n",
              "    .dataframe tbody tr th:only-of-type {\n",
              "        vertical-align: middle;\n",
              "    }\n",
              "\n",
              "    .dataframe tbody tr th {\n",
              "        vertical-align: top;\n",
              "    }\n",
              "\n",
              "    .dataframe thead th {\n",
              "        text-align: right;\n",
              "    }\n",
              "</style>\n",
              "<table border=\"1\" class=\"dataframe\">\n",
              "  <thead>\n",
              "    <tr style=\"text-align: right;\">\n",
              "      <th></th>\n",
              "      <th>sepal length (cm)</th>\n",
              "      <th>sepal width (cm)</th>\n",
              "      <th>petal length (cm)</th>\n",
              "      <th>petal width (cm)</th>\n",
              "      <th>class</th>\n",
              "    </tr>\n",
              "  </thead>\n",
              "  <tbody>\n",
              "    <tr>\n",
              "      <th>0</th>\n",
              "      <td>5.1</td>\n",
              "      <td>3.5</td>\n",
              "      <td>1.4</td>\n",
              "      <td>0.2</td>\n",
              "      <td>0</td>\n",
              "    </tr>\n",
              "    <tr>\n",
              "      <th>1</th>\n",
              "      <td>4.9</td>\n",
              "      <td>3.0</td>\n",
              "      <td>1.4</td>\n",
              "      <td>0.2</td>\n",
              "      <td>0</td>\n",
              "    </tr>\n",
              "    <tr>\n",
              "      <th>2</th>\n",
              "      <td>4.7</td>\n",
              "      <td>3.2</td>\n",
              "      <td>1.3</td>\n",
              "      <td>0.2</td>\n",
              "      <td>0</td>\n",
              "    </tr>\n",
              "    <tr>\n",
              "      <th>3</th>\n",
              "      <td>4.6</td>\n",
              "      <td>3.1</td>\n",
              "      <td>1.5</td>\n",
              "      <td>0.2</td>\n",
              "      <td>0</td>\n",
              "    </tr>\n",
              "    <tr>\n",
              "      <th>4</th>\n",
              "      <td>5.0</td>\n",
              "      <td>3.6</td>\n",
              "      <td>1.4</td>\n",
              "      <td>0.2</td>\n",
              "      <td>0</td>\n",
              "    </tr>\n",
              "  </tbody>\n",
              "</table>\n",
              "</div>"
            ],
            "text/plain": [
              "   sepal length (cm)  sepal width (cm)  ...  petal width (cm)  class\n",
              "0                5.1               3.5  ...               0.2      0\n",
              "1                4.9               3.0  ...               0.2      0\n",
              "2                4.7               3.2  ...               0.2      0\n",
              "3                4.6               3.1  ...               0.2      0\n",
              "4                5.0               3.6  ...               0.2      0\n",
              "\n",
              "[5 rows x 5 columns]"
            ]
          },
          "metadata": {
            "tags": []
          },
          "execution_count": 2
        }
      ]
    },
    {
      "cell_type": "markdown",
      "metadata": {
        "id": "-PgZrZhEJlZU"
      },
      "source": [
        "# **Dataset description**"
      ]
    },
    {
      "cell_type": "code",
      "metadata": {
        "colab": {
          "base_uri": "https://localhost:8080/"
        },
        "id": "DItxrexGu_CF",
        "scrolled": true,
        "outputId": "974a6635-2bdd-49c2-ddec-246d569a524c"
      },
      "source": [
        "print(iris_dataset.DESCR)"
      ],
      "execution_count": 3,
      "outputs": [
        {
          "output_type": "stream",
          "text": [
            ".. _iris_dataset:\n",
            "\n",
            "Iris plants dataset\n",
            "--------------------\n",
            "\n",
            "**Data Set Characteristics:**\n",
            "\n",
            "    :Number of Instances: 150 (50 in each of three classes)\n",
            "    :Number of Attributes: 4 numeric, predictive attributes and the class\n",
            "    :Attribute Information:\n",
            "        - sepal length in cm\n",
            "        - sepal width in cm\n",
            "        - petal length in cm\n",
            "        - petal width in cm\n",
            "        - class:\n",
            "                - Iris-Setosa\n",
            "                - Iris-Versicolour\n",
            "                - Iris-Virginica\n",
            "                \n",
            "    :Summary Statistics:\n",
            "\n",
            "    ============== ==== ==== ======= ===== ====================\n",
            "                    Min  Max   Mean    SD   Class Correlation\n",
            "    ============== ==== ==== ======= ===== ====================\n",
            "    sepal length:   4.3  7.9   5.84   0.83    0.7826\n",
            "    sepal width:    2.0  4.4   3.05   0.43   -0.4194\n",
            "    petal length:   1.0  6.9   3.76   1.76    0.9490  (high!)\n",
            "    petal width:    0.1  2.5   1.20   0.76    0.9565  (high!)\n",
            "    ============== ==== ==== ======= ===== ====================\n",
            "\n",
            "    :Missing Attribute Values: None\n",
            "    :Class Distribution: 33.3% for each of 3 classes.\n",
            "    :Creator: R.A. Fisher\n",
            "    :Donor: Michael Marshall (MARSHALL%PLU@io.arc.nasa.gov)\n",
            "    :Date: July, 1988\n",
            "\n",
            "The famous Iris database, first used by Sir R.A. Fisher. The dataset is taken\n",
            "from Fisher's paper. Note that it's the same as in R, but not as in the UCI\n",
            "Machine Learning Repository, which has two wrong data points.\n",
            "\n",
            "This is perhaps the best known database to be found in the\n",
            "pattern recognition literature.  Fisher's paper is a classic in the field and\n",
            "is referenced frequently to this day.  (See Duda & Hart, for example.)  The\n",
            "data set contains 3 classes of 50 instances each, where each class refers to a\n",
            "type of iris plant.  One class is linearly separable from the other 2; the\n",
            "latter are NOT linearly separable from each other.\n",
            "\n",
            ".. topic:: References\n",
            "\n",
            "   - Fisher, R.A. \"The use of multiple measurements in taxonomic problems\"\n",
            "     Annual Eugenics, 7, Part II, 179-188 (1936); also in \"Contributions to\n",
            "     Mathematical Statistics\" (John Wiley, NY, 1950).\n",
            "   - Duda, R.O., & Hart, P.E. (1973) Pattern Classification and Scene Analysis.\n",
            "     (Q327.D83) John Wiley & Sons.  ISBN 0-471-22361-1.  See page 218.\n",
            "   - Dasarathy, B.V. (1980) \"Nosing Around the Neighborhood: A New System\n",
            "     Structure and Classification Rule for Recognition in Partially Exposed\n",
            "     Environments\".  IEEE Transactions on Pattern Analysis and Machine\n",
            "     Intelligence, Vol. PAMI-2, No. 1, 67-71.\n",
            "   - Gates, G.W. (1972) \"The Reduced Nearest Neighbor Rule\".  IEEE Transactions\n",
            "     on Information Theory, May 1972, 431-433.\n",
            "   - See also: 1988 MLC Proceedings, 54-64.  Cheeseman et al\"s AUTOCLASS II\n",
            "     conceptual clustering system finds 3 classes in the data.\n",
            "   - Many, many more ...\n"
          ],
          "name": "stdout"
        }
      ]
    },
    {
      "cell_type": "markdown",
      "metadata": {
        "id": "l4LSXq65FkHe"
      },
      "source": [
        "# **Exploratory data analysis**"
      ]
    },
    {
      "cell_type": "code",
      "metadata": {
        "colab": {
          "base_uri": "https://localhost:8080/",
          "height": 364
        },
        "id": "OGhgdRv-8sub",
        "outputId": "196ff70f-f22c-43c6-e241-309cc25a12c4"
      },
      "source": [
        "correlation_matrix = iris.corr()\r\n",
        "sns.heatmap(data=correlation_matrix, annot=True,cmap='Greys')"
      ],
      "execution_count": 4,
      "outputs": [
        {
          "output_type": "execute_result",
          "data": {
            "text/plain": [
              "<matplotlib.axes._subplots.AxesSubplot at 0x7f91ee7a10b8>"
            ]
          },
          "metadata": {
            "tags": []
          },
          "execution_count": 4
        },
        {
          "output_type": "display_data",
          "data": {
            "image/png": "[encoded data removed]",
            "text/plain": [
              "<Figure size 432x288 with 2 Axes>"
            ]
          },
          "metadata": {
            "tags": [],
            "needs_background": "light"
          }
        }
      ]
    },
    {
      "cell_type": "markdown",
      "metadata": {
        "id": "ENwZaBpo34Pz"
      },
      "source": [
        "# **Observations**"
      ]
    },
    {
      "cell_type": "code",
      "metadata": {
        "colab": {
          "base_uri": "https://localhost:8080/",
          "height": 341
        },
        "id": "bZN4cTFf3Hto",
        "outputId": "950ed6d2-b69b-4fbc-8193-f44f5ba34d1b"
      },
      "source": [
        "sns.set()\r\n",
        "fig, axes = plt.subplots(1, 4, figsize=(20, 5))\r\n",
        "\r\n",
        "features = ['sepal length (cm)', 'sepal width (cm)', 'petal length (cm)', 'petal width (cm)']\r\n",
        "target = ['class']\r\n",
        "\r\n",
        "sns.set_theme(style=\"ticks\")\r\n",
        "for i, col in enumerate(features):\r\n",
        "  sns.stripplot(ax=axes[i], x=target[0], y=col, data=iris)"
      ],
      "execution_count": 5,
      "outputs": [
        {
          "output_type": "display_data",
          "data": {
            "image/png": "[encoded data removed]",
            "text/plain": [
              "<Figure size 1440x360 with 4 Axes>"
            ]
          },
          "metadata": {
            "tags": []
          }
        }
      ]
    },
    {
      "cell_type": "markdown",
      "metadata": {
        "id": "hUgwQSuSKosr"
      },
      "source": [
        "# **Data preprocessing**"
      ]
    },
    {
      "cell_type": "code",
      "metadata": {
        "colab": {
          "base_uri": "https://localhost:8080/"
        },
        "id": "O4KZEd7HKpr2",
        "outputId": "c5f6071c-2fec-448b-ce36-67baff8e2e95"
      },
      "source": [
        "iris.isnull().sum()"
      ],
      "execution_count": 6,
      "outputs": [
        {
          "output_type": "execute_result",
          "data": {
            "text/plain": [
              "sepal length (cm)    0\n",
              "sepal width (cm)     0\n",
              "petal length (cm)    0\n",
              "petal width (cm)     0\n",
              "class                0\n",
              "dtype: int64"
            ]
          },
          "metadata": {
            "tags": []
          },
          "execution_count": 6
        }
      ]
    },
    {
      "cell_type": "markdown",
      "metadata": {
        "id": "sQ-BS5qZ4NQG"
      },
      "source": [
        "\r\n",
        "\r\n",
        "> # **Splitting the data into training and testing sets**\r\n",
        "\r\n"
      ]
    },
    {
      "cell_type": "code",
      "metadata": {
        "colab": {
          "base_uri": "https://localhost:8080/"
        },
        "id": "NC5zVeSVu_CI",
        "outputId": "8e53b0fe-1b31-407c-e9bd-9ecbbb21f109"
      },
      "source": [
        "from sklearn.model_selection import train_test_split\n",
        "\n",
        "X = iris.iloc[:, [0, 1, 2, 3]].values\n",
        "y = iris.iloc[:, 4].values\n",
        "\n",
        "X_train, X_test, y_train, y_test = train_test_split(X, y, test_size = 0.20, random_state = 42)\n",
        "\n",
        "print(\"X_train.shape: \", X_train.shape)\n",
        "print(\"X_test.shape: \", X_test.shape)\n",
        "print(\"Y_train.shape: \", y_train.shape)\n",
        "print(\"Y_test.shape: \", y_test.shape)"
      ],
      "execution_count": 7,
      "outputs": [
        {
          "output_type": "stream",
          "text": [
            "X_train.shape:  (120, 4)\n",
            "X_test.shape:  (30, 4)\n",
            "Y_train.shape:  (120,)\n",
            "Y_test.shape:  (30,)\n"
          ],
          "name": "stdout"
        }
      ]
    },
    {
      "cell_type": "markdown",
      "metadata": {
        "id": "i9esmnDqKBBs"
      },
      "source": [
        "\r\n",
        "> # **Feature Scaling**\r\n",
        "\r\n"
      ]
    },
    {
      "cell_type": "code",
      "metadata": {
        "id": "v2f3dPQvu_CI"
      },
      "source": [
        "from sklearn.preprocessing import StandardScaler\n",
        "\n",
        "scaler = StandardScaler()\n",
        "X_train = scaler.fit_transform(X_train)\n",
        "X_test = scaler.transform(X_test)"
      ],
      "execution_count": 8,
      "outputs": []
    },
    {
      "cell_type": "markdown",
      "metadata": {
        "id": "1UiIKzZv41kG"
      },
      "source": [
        "# **Logistic Regression**"
      ]
    },
    {
      "cell_type": "code",
      "metadata": {
        "colab": {
          "base_uri": "https://localhost:8080/"
        },
        "id": "Ig2qRnY8u_CJ",
        "outputId": "4967db25-bca3-4cf7-babd-8f1b73e87ce0"
      },
      "source": [
        "from sklearn.metrics import confusion_matrix, accuracy_score, precision_score, recall_score, f1_score, classification_report\n",
        "from sklearn.linear_model import LogisticRegression\n",
        "\n",
        "classifier = LogisticRegression(C=1, penalty='l2', solver='lbfgs', multi_class='multinomial')\n",
        "classifier.fit(X_train, y_train)"
      ],
      "execution_count": 9,
      "outputs": [
        {
          "output_type": "execute_result",
          "data": {
            "text/plain": [
              "LogisticRegression(C=1, class_weight=None, dual=False, fit_intercept=True,\n",
              "                   intercept_scaling=1, l1_ratio=None, max_iter=100,\n",
              "                   multi_class='multinomial', n_jobs=None, penalty='l2',\n",
              "                   random_state=None, solver='lbfgs', tol=0.0001, verbose=0,\n",
              "                   warm_start=False)"
            ]
          },
          "metadata": {
            "tags": []
          },
          "execution_count": 9
        }
      ]
    },
    {
      "cell_type": "code",
      "metadata": {
        "colab": {
          "base_uri": "https://localhost:8080/"
        },
        "id": "p5AttQ-v60Jw",
        "outputId": "5665f0bd-271d-46ea-977b-1f5f9ca3194f"
      },
      "source": [
        "print(\"A list of class labels known to the classifier:\\n{}\\n\".format(classifier.classes_))\r\n",
        "print(\"Coefficient of the features:\\n{}\\n\".format(classifier.coef_))\r\n",
        "print(\"Intercept:\\n{}\\n\".format(classifier.intercept_))\r\n",
        "print(\"Maximum number of iterations taken for the solvers to converge:\\n{}\\n\".format(classifier.n_iter_))"
      ],
      "execution_count": 10,
      "outputs": [
        {
          "output_type": "stream",
          "text": [
            "A list of class labels known to the classifier:\n",
            "[0 1 2]\n",
            "\n",
            "Coefficient of the features:\n",
            "[[-1.00316768  1.14456076 -1.81255767 -1.69176083]\n",
            " [ 0.52785456 -0.28289055 -0.34085076 -0.71984718]\n",
            " [ 0.47531311 -0.8616702   2.15340842  2.41160801]]\n",
            "\n",
            "Intercept:\n",
            "[-0.13379691  1.98339163 -1.84959472]\n",
            "\n",
            "Maximum number of iterations taken for the solvers to converge:\n",
            "[23]\n",
            "\n"
          ],
          "name": "stdout"
        }
      ]
    },
    {
      "cell_type": "markdown",
      "metadata": {
        "id": "y9tYB2do4_Id"
      },
      "source": [
        "# **Model evaluation for training data**"
      ]
    },
    {
      "cell_type": "code",
      "metadata": {
        "colab": {
          "base_uri": "https://localhost:8080/",
          "height": 692
        },
        "id": "fh-ZOuZ75Ba_",
        "outputId": "ba949baa-a102-45ad-cfee-81ce71080186"
      },
      "source": [
        "y_train_predict = classifier.predict(X_train)\r\n",
        "\r\n",
        "confusionmatrix = confusion_matrix(y_train, y_train_predict)\r\n",
        "accuracyscore = accuracy_score(y_train, y_train_predict)\r\n",
        "precisionscore = precision_score(y_train, y_train_predict, average='macro')\r\n",
        "recallscore = recall_score(y_train, y_train_predict, average='macro')\r\n",
        "f1score = f1_score(y_train, y_train_predict, average='macro')\r\n",
        "\r\n",
        "print(\"\\n\")\r\n",
        "print(\"The model performance for training set\")\r\n",
        "print(\"--------------------------------------\")\r\n",
        "print('classification report\\n{}'.format(classification_report(y_train, y_train_predict)))\r\n",
        "print('accuracy score is {}\\n'.format(accuracyscore))\r\n",
        "print('precision score is {}\\n'.format(precisionscore))\r\n",
        "print('recall score is {}\\n'.format(recallscore))\r\n",
        "print('f1 score is {}'.format(f1score))\r\n",
        "print(\"\\n\")\r\n",
        "\r\n",
        "ax = plt.axes()\r\n",
        "sns.heatmap(confusionmatrix, annot=True, annot_kws={\"size\": 30}, fmt='d',cmap=\"Greys\", ax = ax )\r\n",
        "ax.set_title('Confusion Matrix')\r\n",
        "plt.show()"
      ],
      "execution_count": 11,
      "outputs": [
        {
          "output_type": "stream",
          "text": [
            "\n",
            "\n",
            "The model performance for training set\n",
            "--------------------------------------\n",
            "classification report\n",
            "              precision    recall  f1-score   support\n",
            "\n",
            "           0       1.00      1.00      1.00        40\n",
            "           1       0.97      0.93      0.95        41\n",
            "           2       0.93      0.97      0.95        39\n",
            "\n",
            "    accuracy                           0.97       120\n",
            "   macro avg       0.97      0.97      0.97       120\n",
            "weighted avg       0.97      0.97      0.97       120\n",
            "\n",
            "accuracy score is 0.9666666666666667\n",
            "\n",
            "precision score is 0.9670627475505524\n",
            "\n",
            "recall score is 0.9670627475505524\n",
            "\n",
            "f1 score is 0.9666666666666668\n",
            "\n",
            "\n"
          ],
          "name": "stdout"
        },
        {
          "output_type": "display_data",
          "data": {
            "image/png": "[encoded data removed]",
            "text/plain": [
              "<Figure size 432x288 with 2 Axes>"
            ]
          },
          "metadata": {
            "tags": []
          }
        }
      ]
    },
    {
      "cell_type": "markdown",
      "metadata": {
        "id": "fhgPeC8LBjPr"
      },
      "source": [
        "# **Predict probabilities for training data**"
      ]
    },
    {
      "cell_type": "code",
      "metadata": {
        "colab": {
          "base_uri": "https://localhost:8080/"
        },
        "id": "MmxPeeUOBlJa",
        "outputId": "c7caac53-760c-4c20-cc24-4eb452de6420"
      },
      "source": [
        "probs_y_train=classifier.predict_proba(X_train)\r\n",
        "\r\n",
        "probs_y_train = np.round(probs_y_train, 2)\r\n",
        "\r\n",
        "res = \"{:<5} | {:<10} | {:<15} | {:<10} | {:<13} | {:<5}\".format(\"No.\", \"y_train\", \"y_train_predict\", \"Setosa(%)\", \"versicolor(%)\", \"virginica(%)\\n\")\r\n",
        "res += \"-\"*80+\"\\n\"\r\n",
        "res += \"\\n\".join(\"{:<5} | {:<10} | {:<15} | {:<10} | {:<13} | {:<10}\".\r\n",
        "                 format(i, x, y, a, b, c) for i, x, y, a, b, c in zip(range(y_train.shape[0]), y_train, y_train_predict, probs_y_train[:,0], probs_y_train[:,1], probs_y_train[:,2]))\r\n",
        "\r\n",
        "res += \"\\n\"+\"-\"*80+\"\\n\"\r\n",
        "print(res)"
      ],
      "execution_count": 12,
      "outputs": [
        {
          "output_type": "stream",
          "text": [
            "No.   | y_train    | y_train_predict | Setosa(%)  | versicolor(%) | virginica(%)\n",
            "--------------------------------------------------------------------------------\n",
            "0     | 0          | 0               | 1.0        | 0.0           | 0.0       \n",
            "1     | 0          | 0               | 0.99       | 0.01          | 0.0       \n",
            "2     | 1          | 1               | 0.01       | 0.88          | 0.11      \n",
            "3     | 0          | 0               | 0.98       | 0.02          | 0.0       \n",
            "4     | 0          | 0               | 0.99       | 0.01          | 0.0       \n",
            "5     | 2          | 2               | 0.0        | 0.16          | 0.84      \n",
            "6     | 1          | 1               | 0.02       | 0.82          | 0.16      \n",
            "7     | 0          | 0               | 0.97       | 0.03          | 0.0       \n",
            "8     | 0          | 0               | 0.99       | 0.01          | 0.0       \n",
            "9     | 0          | 0               | 1.0        | 0.0           | 0.0       \n",
            "10    | 2          | 2               | 0.0        | 0.17          | 0.83      \n",
            "11    | 1          | 1               | 0.06       | 0.76          | 0.18      \n",
            "12    | 1          | 1               | 0.01       | 0.77          | 0.23      \n",
            "13    | 0          | 0               | 0.99       | 0.01          | 0.0       \n",
            "14    | 0          | 0               | 0.98       | 0.02          | 0.0       \n",
            "15    | 1          | 1               | 0.03       | 0.95          | 0.02      \n",
            "16    | 2          | 1               | 0.0        | 0.56          | 0.44      \n",
            "17    | 2          | 2               | 0.0        | 0.23          | 0.77      \n",
            "18    | 1          | 1               | 0.01       | 0.87          | 0.13      \n",
            "19    | 2          | 2               | 0.0        | 0.01          | 0.99      \n",
            "20    | 1          | 1               | 0.04       | 0.88          | 0.08      \n",
            "21    | 2          | 2               | 0.0        | 0.02          | 0.98      \n",
            "22    | 1          | 1               | 0.04       | 0.76          | 0.2       \n",
            "23    | 0          | 0               | 0.98       | 0.02          | 0.0       \n",
            "24    | 2          | 2               | 0.0        | 0.02          | 0.98      \n",
            "25    | 1          | 1               | 0.03       | 0.94          | 0.03      \n",
            "26    | 0          | 0               | 0.97       | 0.03          | 0.0       \n",
            "27    | 0          | 0               | 0.98       | 0.02          | 0.0       \n",
            "28    | 0          | 0               | 0.98       | 0.02          | 0.0       \n",
            "29    | 1          | 1               | 0.03       | 0.94          | 0.03      \n",
            "30    | 2          | 2               | 0.0        | 0.3           | 0.7       \n",
            "31    | 0          | 0               | 0.97       | 0.03          | 0.0       \n",
            "32    | 0          | 0               | 0.91       | 0.09          | 0.0       \n",
            "33    | 0          | 0               | 0.93       | 0.07          | 0.0       \n",
            "34    | 1          | 1               | 0.03       | 0.87          | 0.1       \n",
            "35    | 0          | 0               | 0.97       | 0.03          | 0.0       \n",
            "36    | 1          | 1               | 0.07       | 0.89          | 0.04      \n",
            "37    | 2          | 2               | 0.0        | 0.03          | 0.97      \n",
            "38    | 0          | 0               | 0.98       | 0.02          | 0.0       \n",
            "39    | 1          | 1               | 0.02       | 0.9           | 0.09      \n",
            "40    | 2          | 2               | 0.0        | 0.11          | 0.89      \n",
            "41    | 0          | 0               | 1.0        | 0.0           | 0.0       \n",
            "42    | 2          | 2               | 0.01       | 0.41          | 0.58      \n",
            "43    | 2          | 2               | 0.0        | 0.17          | 0.83      \n",
            "44    | 1          | 1               | 0.01       | 0.95          | 0.04      \n",
            "45    | 1          | 1               | 0.05       | 0.74          | 0.2       \n",
            "46    | 2          | 2               | 0.0        | 0.06          | 0.94      \n",
            "47    | 1          | 1               | 0.01       | 0.87          | 0.12      \n",
            "48    | 0          | 0               | 0.98       | 0.02          | 0.0       \n",
            "49    | 1          | 1               | 0.08       | 0.91          | 0.01      \n",
            "50    | 2          | 2               | 0.0        | 0.14          | 0.86      \n",
            "51    | 0          | 0               | 0.97       | 0.03          | 0.0       \n",
            "52    | 0          | 0               | 0.96       | 0.04          | 0.0       \n",
            "53    | 1          | 1               | 0.03       | 0.94          | 0.04      \n",
            "54    | 1          | 2               | 0.0        | 0.46          | 0.54      \n",
            "55    | 0          | 0               | 0.95       | 0.05          | 0.0       \n",
            "56    | 2          | 2               | 0.0        | 0.03          | 0.97      \n",
            "57    | 0          | 0               | 0.97       | 0.03          | 0.0       \n",
            "58    | 0          | 0               | 0.97       | 0.03          | 0.0       \n",
            "59    | 1          | 2               | 0.01       | 0.47          | 0.52      \n",
            "60    | 1          | 1               | 0.13       | 0.86          | 0.01      \n",
            "61    | 2          | 2               | 0.0        | 0.03          | 0.97      \n",
            "62    | 1          | 2               | 0.0        | 0.42          | 0.58      \n",
            "63    | 2          | 2               | 0.0        | 0.42          | 0.58      \n",
            "64    | 2          | 2               | 0.0        | 0.01          | 0.99      \n",
            "65    | 1          | 1               | 0.02       | 0.88          | 0.1       \n",
            "66    | 0          | 0               | 0.96       | 0.04          | 0.0       \n",
            "67    | 0          | 0               | 0.98       | 0.02          | 0.0       \n",
            "68    | 2          | 2               | 0.0        | 0.4           | 0.6       \n",
            "69    | 2          | 2               | 0.0        | 0.15          | 0.85      \n",
            "70    | 0          | 0               | 0.97       | 0.03          | 0.0       \n",
            "71    | 0          | 0               | 0.98       | 0.02          | 0.0       \n",
            "72    | 0          | 0               | 0.97       | 0.03          | 0.0       \n",
            "73    | 1          | 1               | 0.0        | 0.53          | 0.47      \n",
            "74    | 2          | 2               | 0.0        | 0.03          | 0.97      \n",
            "75    | 0          | 0               | 0.99       | 0.01          | 0.0       \n",
            "76    | 2          | 2               | 0.0        | 0.07          | 0.93      \n",
            "77    | 2          | 2               | 0.0        | 0.01          | 0.99      \n",
            "78    | 0          | 0               | 0.98       | 0.02          | 0.0       \n",
            "79    | 1          | 1               | 0.01       | 0.78          | 0.2       \n",
            "80    | 1          | 1               | 0.0        | 0.72          | 0.27      \n",
            "81    | 2          | 2               | 0.0        | 0.36          | 0.64      \n",
            "82    | 1          | 1               | 0.01       | 0.85          | 0.14      \n",
            "83    | 2          | 2               | 0.0        | 0.05          | 0.95      \n",
            "84    | 0          | 0               | 0.99       | 0.01          | 0.0       \n",
            "85    | 2          | 2               | 0.0        | 0.09          | 0.91      \n",
            "86    | 1          | 1               | 0.03       | 0.83          | 0.14      \n",
            "87    | 2          | 2               | 0.0        | 0.15          | 0.85      \n",
            "88    | 1          | 1               | 0.05       | 0.94          | 0.01      \n",
            "89    | 1          | 1               | 0.06       | 0.84          | 0.1       \n",
            "90    | 1          | 1               | 0.02       | 0.82          | 0.16      \n",
            "91    | 0          | 0               | 0.75       | 0.25          | 0.0       \n",
            "92    | 1          | 1               | 0.01       | 0.87          | 0.13      \n",
            "93    | 1          | 1               | 0.02       | 0.88          | 0.1       \n",
            "94    | 0          | 0               | 0.98       | 0.02          | 0.0       \n",
            "95    | 1          | 1               | 0.08       | 0.86          | 0.06      \n",
            "96    | 2          | 2               | 0.0        | 0.07          | 0.93      \n",
            "97    | 2          | 2               | 0.0        | 0.08          | 0.92      \n",
            "98    | 0          | 0               | 0.98       | 0.02          | 0.0       \n",
            "99    | 1          | 1               | 0.12       | 0.86          | 0.01      \n",
            "100   | 2          | 2               | 0.0        | 0.02          | 0.98      \n",
            "101   | 2          | 2               | 0.0        | 0.3           | 0.7       \n",
            "102   | 0          | 0               | 0.99       | 0.01          | 0.0       \n",
            "103   | 2          | 2               | 0.0        | 0.02          | 0.98      \n",
            "104   | 0          | 0               | 0.93       | 0.07          | 0.0       \n",
            "105   | 1          | 1               | 0.0        | 0.72          | 0.28      \n",
            "106   | 2          | 2               | 0.0        | 0.06          | 0.94      \n",
            "107   | 2          | 2               | 0.0        | 0.17          | 0.83      \n",
            "108   | 1          | 1               | 0.04       | 0.89          | 0.08      \n",
            "109   | 2          | 2               | 0.0        | 0.21          | 0.79      \n",
            "110   | 1          | 1               | 0.0        | 0.81          | 0.19      \n",
            "111   | 1          | 1               | 0.01       | 0.9           | 0.09      \n",
            "112   | 2          | 2               | 0.0        | 0.17          | 0.83      \n",
            "113   | 2          | 2               | 0.0        | 0.31          | 0.68      \n",
            "114   | 0          | 0               | 0.94       | 0.06          | 0.0       \n",
            "115   | 1          | 1               | 0.02       | 0.92          | 0.07      \n",
            "116   | 2          | 2               | 0.01       | 0.44          | 0.55      \n",
            "117   | 0          | 0               | 0.99       | 0.01          | 0.0       \n",
            "118   | 1          | 1               | 0.02       | 0.92          | 0.06      \n",
            "119   | 2          | 2               | 0.0        | 0.04          | 0.96      \n",
            "--------------------------------------------------------------------------------\n",
            "\n"
          ],
          "name": "stdout"
        }
      ]
    },
    {
      "cell_type": "markdown",
      "metadata": {
        "id": "Lo5MyDSD7YUI"
      },
      "source": [
        "# **Model evaluation for testing data**"
      ]
    },
    {
      "cell_type": "code",
      "metadata": {
        "colab": {
          "base_uri": "https://localhost:8080/",
          "height": 692
        },
        "id": "VywJfMmdu_CJ",
        "outputId": "efa9a569-deee-4d4e-c491-ebc6498e82ce"
      },
      "source": [
        "y_test_predict = classifier.predict(X_test)\n",
        "\n",
        "confusionmatrix = confusion_matrix(y_test, y_test_predict)\n",
        "raccuracyscore = accuracy_score(y_test, y_test_predict)\n",
        "precisionscore = precision_score(y_test, y_test_predict, average='macro')\n",
        "recallscore = recall_score(y_test, y_test_predict, average='macro')\n",
        "f1score = f1_score(y_test, y_test_predict, average='macro')\n",
        "\n",
        "print(\"\\n\")\n",
        "print(\"The model performance for training set\")\n",
        "print(\"--------------------------------------\")\n",
        "print('classification_report\\n{}'.format(classification_report(y_test, y_test_predict)))\n",
        "print('accuracy score is {}\\n'.format(accuracyscore))\n",
        "print('precision score is {}\\n'.format(precisionscore))\n",
        "print('recall score is {}\\n'.format(recallscore))\n",
        "print('f1 score is {}'.format(f1score))\n",
        "print(\"\\n\")\n",
        "\n",
        "ax = plt.axes()\n",
        "sns.heatmap(confusionmatrix, annot=True, annot_kws={\"size\": 30}, fmt='d',cmap=\"Greys\", ax = ax )\n",
        "ax.set_title('Confusion Matrix')\n",
        "plt.show()"
      ],
      "execution_count": 13,
      "outputs": [
        {
          "output_type": "stream",
          "text": [
            "\n",
            "\n",
            "The model performance for training set\n",
            "--------------------------------------\n",
            "classification_report\n",
            "              precision    recall  f1-score   support\n",
            "\n",
            "           0       1.00      1.00      1.00        10\n",
            "           1       1.00      1.00      1.00         9\n",
            "           2       1.00      1.00      1.00        11\n",
            "\n",
            "    accuracy                           1.00        30\n",
            "   macro avg       1.00      1.00      1.00        30\n",
            "weighted avg       1.00      1.00      1.00        30\n",
            "\n",
            "accuracy score is 0.9666666666666667\n",
            "\n",
            "precision score is 1.0\n",
            "\n",
            "recall score is 1.0\n",
            "\n",
            "f1 score is 1.0\n",
            "\n",
            "\n"
          ],
          "name": "stdout"
        },
        {
          "output_type": "display_data",
          "data": {
            "image/png": "[encoded data removed]",
            "text/plain": [
              "<Figure size 432x288 with 2 Axes>"
            ]
          },
          "metadata": {
            "tags": []
          }
        }
      ]
    },
    {
      "cell_type": "markdown",
      "metadata": {
        "id": "YXLQyA-c8rUL"
      },
      "source": [
        "# **Predict probabilities for testing data**"
      ]
    },
    {
      "cell_type": "code",
      "metadata": {
        "colab": {
          "base_uri": "https://localhost:8080/"
        },
        "id": "HV9gMKk7u_CK",
        "outputId": "c2200602-da18-4edb-8696-5f339f9aa8c6"
      },
      "source": [
        "probs_y=classifier.predict_proba(X_test)\r\n",
        "\r\n",
        "probs_y = np.round(probs_y, 2)\r\n",
        "\r\n",
        "res = \"{:<5} | {:<10} | {:<14} | {:<10} | {:<13} | {:<5}\".format(\"No.\",\"y_test\", \"y_test_predict\", \"Setosa(%)\", \"versicolor(%)\", \"virginica(%)\\n\")\r\n",
        "res += \"-\"*79+\"\\n\"\r\n",
        "res += \"\\n\".join(\"{:<5} | {:<10} | {:<14} | {:<10} | {:<13} | {:<10}\".\r\n",
        "                 format(i, x, y, a, b, c) for i, x, y, a, b, c in zip(range(y_test.shape[0]), y_test, y_test_predict, probs_y[:,0], probs_y[:,1], probs_y[:,2]))\r\n",
        "res += \"\\n\"+\"-\"*79+\"\\n\"\r\n",
        "print(res)"
      ],
      "execution_count": 14,
      "outputs": [
        {
          "output_type": "stream",
          "text": [
            "No.   | y_test     | y_test_predict | Setosa(%)  | versicolor(%) | virginica(%)\n",
            "-------------------------------------------------------------------------------\n",
            "0     | 1          | 1              | 0.01       | 0.88          | 0.11      \n",
            "1     | 0          | 0              | 0.96       | 0.04          | 0.0       \n",
            "2     | 2          | 2              | 0.0        | 0.0           | 1.0       \n",
            "3     | 1          | 1              | 0.01       | 0.76          | 0.23      \n",
            "4     | 1          | 1              | 0.0        | 0.75          | 0.25      \n",
            "5     | 0          | 0              | 0.93       | 0.07          | 0.0       \n",
            "6     | 1          | 1              | 0.09       | 0.88          | 0.03      \n",
            "7     | 2          | 2              | 0.0        | 0.06          | 0.94      \n",
            "8     | 1          | 1              | 0.0        | 0.58          | 0.42      \n",
            "9     | 1          | 1              | 0.03       | 0.93          | 0.04      \n",
            "10    | 2          | 2              | 0.0        | 0.21          | 0.79      \n",
            "11    | 0          | 0              | 0.95       | 0.05          | 0.0       \n",
            "12    | 0          | 0              | 0.96       | 0.04          | 0.0       \n",
            "13    | 0          | 0              | 0.95       | 0.05          | 0.0       \n",
            "14    | 0          | 0              | 0.99       | 0.01          | 0.0       \n",
            "15    | 1          | 1              | 0.02       | 0.72          | 0.26      \n",
            "16    | 2          | 2              | 0.0        | 0.03          | 0.97      \n",
            "17    | 1          | 1              | 0.03       | 0.93          | 0.04      \n",
            "18    | 1          | 1              | 0.02       | 0.85          | 0.13      \n",
            "19    | 2          | 2              | 0.0        | 0.03          | 0.97      \n",
            "20    | 0          | 0              | 0.97       | 0.03          | 0.0       \n",
            "21    | 2          | 2              | 0.0        | 0.38          | 0.62      \n",
            "22    | 0          | 0              | 0.96       | 0.04          | 0.0       \n",
            "23    | 2          | 2              | 0.0        | 0.05          | 0.95      \n",
            "24    | 2          | 2              | 0.0        | 0.09          | 0.91      \n",
            "25    | 2          | 2              | 0.0        | 0.05          | 0.95      \n",
            "26    | 2          | 2              | 0.0        | 0.08          | 0.92      \n",
            "27    | 2          | 2              | 0.0        | 0.02          | 0.98      \n",
            "28    | 0          | 0              | 0.94       | 0.06          | 0.0       \n",
            "29    | 0          | 0              | 0.95       | 0.05          | 0.0       \n",
            "-------------------------------------------------------------------------------\n",
            "\n"
          ],
          "name": "stdout"
        }
      ]
    },
    {
      "cell_type": "markdown",
      "metadata": {
        "id": "uKC6QWrDCH59"
      },
      "source": [
        "# **Sources**\r\n",
        "\r\n",
        "*   https://medium.com/@kgpvijaybg/logistic-regression-on-iris-dataset-48b2ecdfb6d3\r\n",
        "\r\n",
        "*   https://github.com/GautamVijay/Logistic-Regression-on-IRIS-Dataset/blob/master/Logistic%20Regression%20(IRIS).ipynb\r\n",
        "\r\n",
        "\r\n",
        "\r\n",
        "*   https://randerson112358.medium.com/python-logistic-regression-program-5e1b32f964db\r\n",
        "\r\n",
        "*   https://scikit-learn.org/stable/modules/generated/sklearn.linear_model.LogisticRegression.html\r\n",
        "\r\n"
      ]
    }
  ]
}