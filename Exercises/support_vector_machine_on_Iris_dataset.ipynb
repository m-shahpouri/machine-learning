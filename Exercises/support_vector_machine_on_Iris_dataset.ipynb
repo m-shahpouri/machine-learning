{
  "nbformat": 4,
  "nbformat_minor": 0,
  "metadata": {
    "colab": {
      "name": "support_vector_machine_on_Iris_dataset.ipynb",
      "provenance": [],
      "collapsed_sections": []
    },
    "kernelspec": {
      "name": "python3",
      "display_name": "Python 3"
    }
  },
  "cells": [
    {
      "cell_type": "markdown",
      "metadata": {
        "id": "Mx39Usgju_B6"
      },
      "source": [
        "# **Support Vector Machine on Iris dataset**\r\n",
        "\r\n",
        "# **Import packages**"
      ]
    },
    {
      "cell_type": "code",
      "metadata": {
        "id": "obvK89vau_CE"
      },
      "source": [
        "import numpy as np\n",
        "import pandas as pd\n",
        "import seaborn as sns\n",
        "from matplotlib import pyplot as plt"
      ],
      "execution_count": null,
      "outputs": []
    },
    {
      "cell_type": "markdown",
      "metadata": {
        "id": "TUg5RFUX16ZD"
      },
      "source": [
        "# **Load data**"
      ]
    },
    {
      "cell_type": "code",
      "metadata": {
        "colab": {
          "base_uri": "https://localhost:8080/",
          "height": 204
        },
        "id": "q2UAKKuCu_CF",
        "outputId": "cb2e561e-5885-4965-f42c-955bebecd1d6"
      },
      "source": [
        "from sklearn.datasets import load_iris\n",
        "\n",
        "iris_dataset = load_iris()\n",
        "iris = pd.DataFrame(iris_dataset.data, columns=iris_dataset.feature_names)\n",
        "iris['class'] = iris_dataset.target\n",
        "iris.head()"
      ],
      "execution_count": null,
      "outputs": [
        {
          "output_type": "execute_result",
          "data": {
            "text/html": [
              "<div>\n",
              "<style scoped>\n",
              "    .dataframe tbody tr th:only-of-type {\n",
              "        vertical-align: middle;\n",
              "    }\n",
              "\n",
              "    .dataframe tbody tr th {\n",
              "        vertical-align: top;\n",
              "    }\n",
              "\n",
              "    .dataframe thead th {\n",
              "        text-align: right;\n",
              "    }\n",
              "</style>\n",
              "<table border=\"1\" class=\"dataframe\">\n",
              "  <thead>\n",
              "    <tr style=\"text-align: right;\">\n",
              "      <th></th>\n",
              "      <th>sepal length (cm)</th>\n",
              "      <th>sepal width (cm)</th>\n",
              "      <th>petal length (cm)</th>\n",
              "      <th>petal width (cm)</th>\n",
              "      <th>class</th>\n",
              "    </tr>\n",
              "  </thead>\n",
              "  <tbody>\n",
              "    <tr>\n",
              "      <th>0</th>\n",
              "      <td>5.1</td>\n",
              "      <td>3.5</td>\n",
              "      <td>1.4</td>\n",
              "      <td>0.2</td>\n",
              "      <td>0</td>\n",
              "    </tr>\n",
              "    <tr>\n",
              "      <th>1</th>\n",
              "      <td>4.9</td>\n",
              "      <td>3.0</td>\n",
              "      <td>1.4</td>\n",
              "      <td>0.2</td>\n",
              "      <td>0</td>\n",
              "    </tr>\n",
              "    <tr>\n",
              "      <th>2</th>\n",
              "      <td>4.7</td>\n",
              "      <td>3.2</td>\n",
              "      <td>1.3</td>\n",
              "      <td>0.2</td>\n",
              "      <td>0</td>\n",
              "    </tr>\n",
              "    <tr>\n",
              "      <th>3</th>\n",
              "      <td>4.6</td>\n",
              "      <td>3.1</td>\n",
              "      <td>1.5</td>\n",
              "      <td>0.2</td>\n",
              "      <td>0</td>\n",
              "    </tr>\n",
              "    <tr>\n",
              "      <th>4</th>\n",
              "      <td>5.0</td>\n",
              "      <td>3.6</td>\n",
              "      <td>1.4</td>\n",
              "      <td>0.2</td>\n",
              "      <td>0</td>\n",
              "    </tr>\n",
              "  </tbody>\n",
              "</table>\n",
              "</div>"
            ],
            "text/plain": [
              "   sepal length (cm)  sepal width (cm)  ...  petal width (cm)  class\n",
              "0                5.1               3.5  ...               0.2      0\n",
              "1                4.9               3.0  ...               0.2      0\n",
              "2                4.7               3.2  ...               0.2      0\n",
              "3                4.6               3.1  ...               0.2      0\n",
              "4                5.0               3.6  ...               0.2      0\n",
              "\n",
              "[5 rows x 5 columns]"
            ]
          },
          "metadata": {
            "tags": []
          },
          "execution_count": 2
        }
      ]
    },
    {
      "cell_type": "markdown",
      "metadata": {
        "id": "-PgZrZhEJlZU"
      },
      "source": [
        "# **Dataset description**"
      ]
    },
    {
      "cell_type": "code",
      "metadata": {
        "colab": {
          "base_uri": "https://localhost:8080/"
        },
        "id": "DItxrexGu_CF",
        "scrolled": true,
        "outputId": "b1922196-728d-41ee-a3be-b17a6ddf3804"
      },
      "source": [
        "print(iris_dataset.DESCR)"
      ],
      "execution_count": null,
      "outputs": [
        {
          "output_type": "stream",
          "text": [
            ".. _iris_dataset:\n",
            "\n",
            "Iris plants dataset\n",
            "--------------------\n",
            "\n",
            "**Data Set Characteristics:**\n",
            "\n",
            "    :Number of Instances: 150 (50 in each of three classes)\n",
            "    :Number of Attributes: 4 numeric, predictive attributes and the class\n",
            "    :Attribute Information:\n",
            "        - sepal length in cm\n",
            "        - sepal width in cm\n",
            "        - petal length in cm\n",
            "        - petal width in cm\n",
            "        - class:\n",
            "                - Iris-Setosa\n",
            "                - Iris-Versicolour\n",
            "                - Iris-Virginica\n",
            "                \n",
            "    :Summary Statistics:\n",
            "\n",
            "    ============== ==== ==== ======= ===== ====================\n",
            "                    Min  Max   Mean    SD   Class Correlation\n",
            "    ============== ==== ==== ======= ===== ====================\n",
            "    sepal length:   4.3  7.9   5.84   0.83    0.7826\n",
            "    sepal width:    2.0  4.4   3.05   0.43   -0.4194\n",
            "    petal length:   1.0  6.9   3.76   1.76    0.9490  (high!)\n",
            "    petal width:    0.1  2.5   1.20   0.76    0.9565  (high!)\n",
            "    ============== ==== ==== ======= ===== ====================\n",
            "\n",
            "    :Missing Attribute Values: None\n",
            "    :Class Distribution: 33.3% for each of 3 classes.\n",
            "    :Creator: R.A. Fisher\n",
            "    :Donor: Michael Marshall (MARSHALL%PLU@io.arc.nasa.gov)\n",
            "    :Date: July, 1988\n",
            "\n",
            "The famous Iris database, first used by Sir R.A. Fisher. The dataset is taken\n",
            "from Fisher's paper. Note that it's the same as in R, but not as in the UCI\n",
            "Machine Learning Repository, which has two wrong data points.\n",
            "\n",
            "This is perhaps the best known database to be found in the\n",
            "pattern recognition literature.  Fisher's paper is a classic in the field and\n",
            "is referenced frequently to this day.  (See Duda & Hart, for example.)  The\n",
            "data set contains 3 classes of 50 instances each, where each class refers to a\n",
            "type of iris plant.  One class is linearly separable from the other 2; the\n",
            "latter are NOT linearly separable from each other.\n",
            "\n",
            ".. topic:: References\n",
            "\n",
            "   - Fisher, R.A. \"The use of multiple measurements in taxonomic problems\"\n",
            "     Annual Eugenics, 7, Part II, 179-188 (1936); also in \"Contributions to\n",
            "     Mathematical Statistics\" (John Wiley, NY, 1950).\n",
            "   - Duda, R.O., & Hart, P.E. (1973) Pattern Classification and Scene Analysis.\n",
            "     (Q327.D83) John Wiley & Sons.  ISBN 0-471-22361-1.  See page 218.\n",
            "   - Dasarathy, B.V. (1980) \"Nosing Around the Neighborhood: A New System\n",
            "     Structure and Classification Rule for Recognition in Partially Exposed\n",
            "     Environments\".  IEEE Transactions on Pattern Analysis and Machine\n",
            "     Intelligence, Vol. PAMI-2, No. 1, 67-71.\n",
            "   - Gates, G.W. (1972) \"The Reduced Nearest Neighbor Rule\".  IEEE Transactions\n",
            "     on Information Theory, May 1972, 431-433.\n",
            "   - See also: 1988 MLC Proceedings, 54-64.  Cheeseman et al\"s AUTOCLASS II\n",
            "     conceptual clustering system finds 3 classes in the data.\n",
            "   - Many, many more ...\n"
          ],
          "name": "stdout"
        }
      ]
    },
    {
      "cell_type": "markdown",
      "metadata": {
        "id": "l4LSXq65FkHe"
      },
      "source": [
        "# **Exploratory data analysis**"
      ]
    },
    {
      "cell_type": "code",
      "metadata": {
        "colab": {
          "base_uri": "https://localhost:8080/",
          "height": 364
        },
        "id": "OGhgdRv-8sub",
        "outputId": "d80cce53-7dbb-46f1-f6fc-c6c23bacbf38"
      },
      "source": [
        "correlation_matrix = iris.corr()\r\n",
        "sns.heatmap(data=correlation_matrix, annot=True,cmap='Greys')"
      ],
      "execution_count": null,
      "outputs": [
        {
          "output_type": "execute_result",
          "data": {
            "text/plain": [
              "<matplotlib.axes._subplots.AxesSubplot at 0x7f831745a6d8>"
            ]
          },
          "metadata": {
            "tags": []
          },
          "execution_count": 4
        },
        {
          "output_type": "display_data",
          "data": {
            "image/png": "[encoded data removed]",
            "text/plain": [
              "<Figure size 432x288 with 2 Axes>"
            ]
          },
          "metadata": {
            "tags": [],
            "needs_background": "light"
          }
        }
      ]
    },
    {
      "cell_type": "markdown",
      "metadata": {
        "id": "ENwZaBpo34Pz"
      },
      "source": [
        "# **Observations**"
      ]
    },
    {
      "cell_type": "code",
      "metadata": {
        "colab": {
          "base_uri": "https://localhost:8080/",
          "height": 341
        },
        "id": "bZN4cTFf3Hto",
        "outputId": "0de89599-13c3-4581-8edc-80c24ab8287a"
      },
      "source": [
        "sns.set()\r\n",
        "fig, axes = plt.subplots(1, 4, figsize=(20, 5))\r\n",
        "\r\n",
        "features = ['sepal length (cm)', 'sepal width (cm)', 'petal length (cm)', 'petal width (cm)']\r\n",
        "target = ['class']\r\n",
        "\r\n",
        "sns.set_theme(style=\"ticks\")\r\n",
        "for i, col in enumerate(features):\r\n",
        "  sns.stripplot(ax=axes[i], x=target[0], y=col, data=iris)"
      ],
      "execution_count": null,
      "outputs": [
        {
          "output_type": "display_data",
          "data": {
            "image/png": "[encoded data removed]",
            "text/plain": [
              "<Figure size 1440x360 with 4 Axes>"
            ]
          },
          "metadata": {
            "tags": []
          }
        }
      ]
    },
    {
      "cell_type": "markdown",
      "metadata": {
        "id": "hUgwQSuSKosr"
      },
      "source": [
        "# **Data preprocessing**"
      ]
    },
    {
      "cell_type": "code",
      "metadata": {
        "colab": {
          "base_uri": "https://localhost:8080/"
        },
        "id": "O4KZEd7HKpr2",
        "outputId": "a7a9fc40-914c-4423-f52f-75a91ed0932a"
      },
      "source": [
        "print(iris.isnull().sum())\r\n",
        "print(iris.isnull().sum().value_counts())"
      ],
      "execution_count": null,
      "outputs": [
        {
          "output_type": "stream",
          "text": [
            "sepal length (cm)    0\n",
            "sepal width (cm)     0\n",
            "petal length (cm)    0\n",
            "petal width (cm)     0\n",
            "class                0\n",
            "dtype: int64\n",
            "0    5\n",
            "dtype: int64\n"
          ],
          "name": "stdout"
        }
      ]
    },
    {
      "cell_type": "markdown",
      "metadata": {
        "id": "sQ-BS5qZ4NQG"
      },
      "source": [
        "\r\n",
        "\r\n",
        "> # **Splitting the data into training and testing sets**\r\n",
        "\r\n"
      ]
    },
    {
      "cell_type": "code",
      "metadata": {
        "colab": {
          "base_uri": "https://localhost:8080/"
        },
        "id": "NC5zVeSVu_CI",
        "outputId": "627b975e-8fe4-4b73-de04-8a1ec0daedb0"
      },
      "source": [
        "from sklearn.model_selection import train_test_split\n",
        "\n",
        "X = iris.iloc[:, [0, 1, 2, 3]].values\n",
        "y = iris.iloc[:, 4].values\n",
        "\n",
        "X_train, X_test, y_train, y_test = train_test_split(X, y, test_size = 0.20, random_state = 42)\n",
        "\n",
        "print(\"X_train.shape: \", X_train.shape)\n",
        "print(\"X_test.shape: \", X_test.shape)\n",
        "print(\"y_train.shape: \", y_train.shape)\n",
        "print(\"y_test.shape: \", y_test.shape)"
      ],
      "execution_count": null,
      "outputs": [
        {
          "output_type": "stream",
          "text": [
            "X_train.shape:  (120, 4)\n",
            "X_test.shape:  (30, 4)\n",
            "Y_train.shape:  (120,)\n",
            "Y_test.shape:  (30,)\n"
          ],
          "name": "stdout"
        }
      ]
    },
    {
      "cell_type": "markdown",
      "metadata": {
        "id": "i9esmnDqKBBs"
      },
      "source": [
        "\r\n",
        "> # **Feature Scaling**\r\n",
        "\r\n"
      ]
    },
    {
      "cell_type": "code",
      "metadata": {
        "id": "v2f3dPQvu_CI"
      },
      "source": [
        "from sklearn.preprocessing import StandardScaler\n",
        "\n",
        "scaler = StandardScaler()\n",
        "X_train = scaler.fit_transform(X_train)\n",
        "X_test = scaler.transform(X_test)"
      ],
      "execution_count": null,
      "outputs": []
    },
    {
      "cell_type": "markdown",
      "metadata": {
        "id": "1UiIKzZv41kG"
      },
      "source": [
        "# **Support Vector Machine**"
      ]
    },
    {
      "cell_type": "code",
      "metadata": {
        "colab": {
          "base_uri": "https://localhost:8080/"
        },
        "id": "Ig2qRnY8u_CJ",
        "outputId": "1da2c356-9ce9-4f3c-d4b6-dd14f6e43db5"
      },
      "source": [
        "from sklearn.metrics import confusion_matrix, accuracy_score, precision_score, recall_score, f1_score, classification_report\n",
        "from sklearn.model_selection import StratifiedKFold\n",
        "from sklearn.model_selection import GridSearchCV\n",
        "from sklearn.svm import SVC\n",
        "\n",
        "# 1: split data to train and validation\n",
        "cv = StratifiedKFold(n_splits=5, shuffle=True, random_state=42)\n",
        "\n",
        "# 2: specify range of hyper-parameters\n",
        "C_range = np.logspace(-3, 5, 9)         # 1e-3, 1e-2, 1e-1, 1e0, 1e1, 1e2, 1e3, 1e4, 1e5\n",
        "gamma_range = np.logspace(-3, 5, 9)     # 1e-3, 1e-2, 1e-1, 1e0, 1e1, 1e2, 1e3, 1e4, 1e5\n",
        "param_grid = dict(gamma=gamma_range, C=C_range, probability=[True])\n",
        "\n",
        "# 3: create classifier\n",
        "grid = GridSearchCV(SVC(), param_grid=param_grid, cv=cv)\n",
        "\n",
        "# 4: Train\n",
        "grid.fit(X_train, y_train)"
      ],
      "execution_count": null,
      "outputs": [
        {
          "output_type": "execute_result",
          "data": {
            "text/plain": [
              "GridSearchCV(cv=StratifiedKFold(n_splits=5, random_state=42, shuffle=True),\n",
              "             error_score=nan,\n",
              "             estimator=SVC(C=1.0, break_ties=False, cache_size=200,\n",
              "                           class_weight=None, coef0=0.0,\n",
              "                           decision_function_shape='ovr', degree=3,\n",
              "                           gamma='scale', kernel='rbf', max_iter=-1,\n",
              "                           probability=False, random_state=None, shrinking=True,\n",
              "                           tol=0.001, verbose=False),\n",
              "             iid='deprecated', n_jobs=None,\n",
              "             param_grid={'C': array([1.e-03, 1.e-02, 1.e-01, 1.e+00, 1.e+01, 1.e+02, 1.e+03, 1.e+04,\n",
              "       1.e+05]),\n",
              "                         'gamma': array([1.e-03, 1.e-02, 1.e-01, 1.e+00, 1.e+01, 1.e+02, 1.e+03, 1.e+04,\n",
              "       1.e+05]),\n",
              "                         'probability': [True]},\n",
              "             pre_dispatch='2*n_jobs', refit=True, return_train_score=False,\n",
              "             scoring=None, verbose=0)"
            ]
          },
          "metadata": {
            "tags": []
          },
          "execution_count": 27
        }
      ]
    },
    {
      "cell_type": "code",
      "metadata": {
        "colab": {
          "base_uri": "https://localhost:8080/"
        },
        "id": "p5AttQ-v60Jw",
        "outputId": "f32b8407-d931-48ee-dbbb-a843aee7f0e5"
      },
      "source": [
        "print(\"The best parameters are %s with a score of %0.2f\" % (grid.best_params_, grid.best_score_))"
      ],
      "execution_count": null,
      "outputs": [
        {
          "output_type": "stream",
          "text": [
            "The best parameters are {'C': 10.0, 'gamma': 0.01, 'probability': True} with a score of 0.97\n"
          ],
          "name": "stdout"
        }
      ]
    },
    {
      "cell_type": "markdown",
      "metadata": {
        "id": "y9tYB2do4_Id"
      },
      "source": [
        "# **Model evaluation for training data**"
      ]
    },
    {
      "cell_type": "code",
      "metadata": {
        "colab": {
          "base_uri": "https://localhost:8080/",
          "height": 692
        },
        "id": "fh-ZOuZ75Ba_",
        "outputId": "cb95ffd7-9ffd-456f-db54-0eca613a4a90"
      },
      "source": [
        "y_train_predict = grid.predict(X_train)\r\n",
        "\r\n",
        "confusionmatrix = confusion_matrix(y_train, y_train_predict)\r\n",
        "accuracyscore = accuracy_score(y_train, y_train_predict)\r\n",
        "precisionscore = precision_score(y_train, y_train_predict, average='macro')\r\n",
        "recallscore = recall_score(y_train, y_train_predict, average='macro')\r\n",
        "f1score = f1_score(y_train, y_train_predict, average='macro')\r\n",
        "\r\n",
        "print(\"\\n\")\r\n",
        "print(\"The model performance for training set\")\r\n",
        "print(\"--------------------------------------\")\r\n",
        "print('classification report\\n{}'.format(classification_report(y_train, y_train_predict)))\r\n",
        "print('accuracy score is {}\\n'.format(accuracyscore))\r\n",
        "print('precision score is {}\\n'.format(precisionscore))\r\n",
        "print('recall score is {}\\n'.format(recallscore))\r\n",
        "print('f1 score is {}'.format(f1score))\r\n",
        "print(\"\\n\")\r\n",
        "\r\n",
        "ax = plt.axes()\r\n",
        "sns.heatmap(confusionmatrix, annot=True, annot_kws={\"size\": 30}, fmt='d',cmap=\"Greys\", ax = ax )\r\n",
        "ax.set_title('Confusion Matrix')\r\n",
        "plt.show()"
      ],
      "execution_count": null,
      "outputs": [
        {
          "output_type": "stream",
          "text": [
            "\n",
            "\n",
            "The model performance for training set\n",
            "--------------------------------------\n",
            "classification report\n",
            "              precision    recall  f1-score   support\n",
            "\n",
            "           0       1.00      1.00      1.00        40\n",
            "           1       0.97      0.93      0.95        41\n",
            "           2       0.93      0.97      0.95        39\n",
            "\n",
            "    accuracy                           0.97       120\n",
            "   macro avg       0.97      0.97      0.97       120\n",
            "weighted avg       0.97      0.97      0.97       120\n",
            "\n",
            "accuracy score is 0.9666666666666667\n",
            "\n",
            "precision score is 0.9670627475505524\n",
            "\n",
            "recall score is 0.9670627475505524\n",
            "\n",
            "f1 score is 0.9666666666666668\n",
            "\n",
            "\n"
          ],
          "name": "stdout"
        },
        {
          "output_type": "display_data",
          "data": {
            "image/png": "[encoded data removed]",
            "text/plain": [
              "<Figure size 432x288 with 2 Axes>"
            ]
          },
          "metadata": {
            "tags": []
          }
        }
      ]
    },
    {
      "cell_type": "markdown",
      "metadata": {
        "id": "fhgPeC8LBjPr"
      },
      "source": [
        "# **Predict probabilities for training data**"
      ]
    },
    {
      "cell_type": "code",
      "metadata": {
        "colab": {
          "base_uri": "https://localhost:8080/"
        },
        "id": "MmxPeeUOBlJa",
        "outputId": "21b188d6-af75-44b9-891b-48f4a696e07c"
      },
      "source": [
        "probs_y_train = grid.predict_proba(X_train)\r\n",
        "\r\n",
        "probs_y_train = np.round(probs_y_train, 2)\r\n",
        "\r\n",
        "res = \"{:<5} | {:<10} | {:<15} | {:<10} | {:<13} | {:<5}\".format(\"No.\", \"y_train\", \"y_train_predict\", \"Setosa(%)\", \"versicolor(%)\", \"virginica(%)\\n\")\r\n",
        "res += \"-\"*80+\"\\n\"\r\n",
        "res += \"\\n\".join(\"{:<5} | {:<10} | {:<15} | {:<10} | {:<13} | {:<10}\".\r\n",
        "                 format(i, x, y, a, b, c) for i, x, y, a, b, c in zip(range(y_train.shape[0]), y_train, y_train_predict, probs_y_train[:,0], probs_y_train[:,1], probs_y_train[:,2]))\r\n",
        "\r\n",
        "res += \"\\n\"+\"-\"*80+\"\\n\"\r\n",
        "print(res)"
      ],
      "execution_count": null,
      "outputs": [
        {
          "output_type": "stream",
          "text": [
            "No.   | y_train    | y_train_predict | Setosa(%)  | versicolor(%) | virginica(%)\n",
            "--------------------------------------------------------------------------------\n",
            "0     | 0          | 0               | 0.99       | 0.01          | 0.01      \n",
            "1     | 0          | 0               | 0.98       | 0.01          | 0.01      \n",
            "2     | 1          | 1               | 0.01       | 0.97          | 0.02      \n",
            "3     | 0          | 0               | 0.97       | 0.02          | 0.01      \n",
            "4     | 0          | 0               | 0.97       | 0.02          | 0.01      \n",
            "5     | 2          | 2               | 0.01       | 0.02          | 0.97      \n",
            "6     | 1          | 1               | 0.02       | 0.96          | 0.03      \n",
            "7     | 0          | 0               | 0.97       | 0.02          | 0.01      \n",
            "8     | 0          | 0               | 0.98       | 0.01          | 0.01      \n",
            "9     | 0          | 0               | 0.99       | 0.0           | 0.01      \n",
            "10    | 2          | 2               | 0.01       | 0.04          | 0.94      \n",
            "11    | 1          | 1               | 0.03       | 0.94          | 0.03      \n",
            "12    | 1          | 1               | 0.01       | 0.91          | 0.08      \n",
            "13    | 0          | 0               | 0.98       | 0.01          | 0.01      \n",
            "14    | 0          | 0               | 0.97       | 0.02          | 0.01      \n",
            "15    | 1          | 1               | 0.02       | 0.97          | 0.01      \n",
            "16    | 2          | 1               | 0.01       | 0.54          | 0.44      \n",
            "17    | 2          | 2               | 0.01       | 0.14          | 0.85      \n",
            "18    | 1          | 1               | 0.01       | 0.96          | 0.03      \n",
            "19    | 2          | 2               | 0.01       | 0.0           | 0.99      \n",
            "20    | 1          | 1               | 0.02       | 0.97          | 0.01      \n",
            "21    | 2          | 2               | 0.0        | 0.0           | 1.0       \n",
            "22    | 1          | 1               | 0.02       | 0.93          | 0.05      \n",
            "23    | 0          | 0               | 0.97       | 0.02          | 0.01      \n",
            "24    | 2          | 2               | 0.0        | 0.0           | 1.0       \n",
            "25    | 1          | 1               | 0.03       | 0.97          | 0.01      \n",
            "26    | 0          | 0               | 0.96       | 0.02          | 0.01      \n",
            "27    | 0          | 0               | 0.97       | 0.02          | 0.01      \n",
            "28    | 0          | 0               | 0.96       | 0.02          | 0.02      \n",
            "29    | 1          | 1               | 0.02       | 0.97          | 0.01      \n",
            "30    | 2          | 2               | 0.01       | 0.13          | 0.86      \n",
            "31    | 0          | 0               | 0.96       | 0.03          | 0.01      \n",
            "32    | 0          | 0               | 0.92       | 0.07          | 0.02      \n",
            "33    | 0          | 0               | 0.91       | 0.07          | 0.02      \n",
            "34    | 1          | 1               | 0.01       | 0.96          | 0.02      \n",
            "35    | 0          | 0               | 0.96       | 0.03          | 0.01      \n",
            "36    | 1          | 1               | 0.04       | 0.95          | 0.01      \n",
            "37    | 2          | 2               | 0.01       | 0.01          | 0.99      \n",
            "38    | 0          | 0               | 0.97       | 0.02          | 0.01      \n",
            "39    | 1          | 1               | 0.01       | 0.97          | 0.01      \n",
            "40    | 2          | 2               | 0.01       | 0.01          | 0.98      \n",
            "41    | 0          | 0               | 0.99       | 0.01          | 0.01      \n",
            "42    | 2          | 2               | 0.02       | 0.43          | 0.56      \n",
            "43    | 2          | 2               | 0.01       | 0.04          | 0.94      \n",
            "44    | 1          | 1               | 0.01       | 0.98          | 0.01      \n",
            "45    | 1          | 1               | 0.02       | 0.93          | 0.05      \n",
            "46    | 2          | 2               | 0.01       | 0.02          | 0.97      \n",
            "47    | 1          | 1               | 0.01       | 0.93          | 0.06      \n",
            "48    | 0          | 0               | 0.97       | 0.02          | 0.02      \n",
            "49    | 1          | 1               | 0.04       | 0.95          | 0.01      \n",
            "50    | 2          | 2               | 0.01       | 0.02          | 0.97      \n",
            "51    | 0          | 0               | 0.96       | 0.03          | 0.01      \n",
            "52    | 0          | 0               | 0.96       | 0.03          | 0.01      \n",
            "53    | 1          | 1               | 0.02       | 0.98          | 0.01      \n",
            "54    | 1          | 2               | 0.01       | 0.43          | 0.55      \n",
            "55    | 0          | 0               | 0.94       | 0.04          | 0.01      \n",
            "56    | 2          | 2               | 0.01       | 0.0           | 0.99      \n",
            "57    | 0          | 0               | 0.97       | 0.02          | 0.01      \n",
            "58    | 0          | 0               | 0.93       | 0.04          | 0.02      \n",
            "59    | 1          | 1               | 0.02       | 0.64          | 0.34      \n",
            "60    | 1          | 1               | 0.07       | 0.91          | 0.02      \n",
            "61    | 2          | 2               | 0.01       | 0.0           | 0.99      \n",
            "62    | 1          | 2               | 0.02       | 0.29          | 0.7       \n",
            "63    | 2          | 2               | 0.02       | 0.23          | 0.76      \n",
            "64    | 2          | 2               | 0.0        | 0.0           | 1.0       \n",
            "65    | 1          | 1               | 0.01       | 0.96          | 0.03      \n",
            "66    | 0          | 0               | 0.94       | 0.04          | 0.01      \n",
            "67    | 0          | 0               | 0.97       | 0.02          | 0.01      \n",
            "68    | 2          | 2               | 0.02       | 0.12          | 0.86      \n",
            "69    | 2          | 2               | 0.01       | 0.05          | 0.94      \n",
            "70    | 0          | 0               | 0.95       | 0.04          | 0.01      \n",
            "71    | 0          | 0               | 0.97       | 0.02          | 0.01      \n",
            "72    | 0          | 0               | 0.96       | 0.03          | 0.01      \n",
            "73    | 1          | 2               | 0.02       | 0.37          | 0.62      \n",
            "74    | 2          | 2               | 0.01       | 0.01          | 0.99      \n",
            "75    | 0          | 0               | 0.97       | 0.02          | 0.01      \n",
            "76    | 2          | 2               | 0.01       | 0.01          | 0.98      \n",
            "77    | 2          | 2               | 0.0        | 0.0           | 0.99      \n",
            "78    | 0          | 0               | 0.97       | 0.02          | 0.01      \n",
            "79    | 1          | 1               | 0.01       | 0.92          | 0.07      \n",
            "80    | 1          | 1               | 0.01       | 0.81          | 0.18      \n",
            "81    | 2          | 2               | 0.02       | 0.23          | 0.75      \n",
            "82    | 1          | 1               | 0.01       | 0.96          | 0.03      \n",
            "83    | 2          | 2               | 0.01       | 0.01          | 0.98      \n",
            "84    | 0          | 0               | 0.98       | 0.01          | 0.01      \n",
            "85    | 2          | 2               | 0.01       | 0.02          | 0.97      \n",
            "86    | 1          | 1               | 0.02       | 0.96          | 0.03      \n",
            "87    | 2          | 2               | 0.01       | 0.05          | 0.94      \n",
            "88    | 1          | 1               | 0.04       | 0.95          | 0.01      \n",
            "89    | 1          | 1               | 0.02       | 0.96          | 0.02      \n",
            "90    | 1          | 1               | 0.01       | 0.95          | 0.04      \n",
            "91    | 0          | 0               | 0.75       | 0.23          | 0.02      \n",
            "92    | 1          | 1               | 0.01       | 0.96          | 0.03      \n",
            "93    | 1          | 1               | 0.01       | 0.96          | 0.03      \n",
            "94    | 0          | 0               | 0.98       | 0.01          | 0.01      \n",
            "95    | 1          | 1               | 0.03       | 0.95          | 0.01      \n",
            "96    | 2          | 2               | 0.01       | 0.01          | 0.99      \n",
            "97    | 2          | 2               | 0.01       | 0.02          | 0.97      \n",
            "98    | 0          | 0               | 0.97       | 0.02          | 0.01      \n",
            "99    | 1          | 1               | 0.06       | 0.93          | 0.01      \n",
            "100   | 2          | 2               | 0.0        | 0.0           | 0.99      \n",
            "101   | 2          | 2               | 0.01       | 0.14          | 0.85      \n",
            "102   | 0          | 0               | 0.98       | 0.01          | 0.01      \n",
            "103   | 2          | 2               | 0.0        | 0.0           | 0.99      \n",
            "104   | 0          | 0               | 0.94       | 0.05          | 0.01      \n",
            "105   | 1          | 1               | 0.01       | 0.86          | 0.13      \n",
            "106   | 2          | 2               | 0.0        | 0.0           | 0.99      \n",
            "107   | 2          | 2               | 0.01       | 0.05          | 0.94      \n",
            "108   | 1          | 1               | 0.02       | 0.97          | 0.01      \n",
            "109   | 2          | 2               | 0.01       | 0.09          | 0.9       \n",
            "110   | 1          | 1               | 0.01       | 0.8           | 0.19      \n",
            "111   | 1          | 1               | 0.01       | 0.97          | 0.01      \n",
            "112   | 2          | 2               | 0.02       | 0.06          | 0.93      \n",
            "113   | 2          | 2               | 0.02       | 0.25          | 0.73      \n",
            "114   | 0          | 0               | 0.95       | 0.04          | 0.02      \n",
            "115   | 1          | 1               | 0.01       | 0.97          | 0.01      \n",
            "116   | 2          | 2               | 0.03       | 0.35          | 0.62      \n",
            "117   | 0          | 0               | 0.98       | 0.01          | 0.01      \n",
            "118   | 1          | 1               | 0.01       | 0.97          | 0.01      \n",
            "119   | 2          | 2               | 0.01       | 0.0           | 0.99      \n",
            "--------------------------------------------------------------------------------\n",
            "\n"
          ],
          "name": "stdout"
        }
      ]
    },
    {
      "cell_type": "markdown",
      "metadata": {
        "id": "Lo5MyDSD7YUI"
      },
      "source": [
        "# **Model evaluation for testing data**"
      ]
    },
    {
      "cell_type": "code",
      "metadata": {
        "colab": {
          "base_uri": "https://localhost:8080/",
          "height": 692
        },
        "id": "VywJfMmdu_CJ",
        "outputId": "772858ff-a1d8-4a4d-8fa8-9f903babcd83"
      },
      "source": [
        "y_test_predict = grid.predict(X_test)\n",
        "\n",
        "confusionmatrix = confusion_matrix(y_test, y_test_predict)\n",
        "raccuracyscore = accuracy_score(y_test, y_test_predict)\n",
        "precisionscore = precision_score(y_test, y_test_predict, average='macro')\n",
        "recallscore = recall_score(y_test, y_test_predict, average='macro')\n",
        "f1score = f1_score(y_test, y_test_predict, average='macro')\n",
        "\n",
        "print(\"\\n\")\n",
        "print(\"The model performance for training set\")\n",
        "print(\"--------------------------------------\")\n",
        "print('classification_report\\n{}'.format(classification_report(y_test, y_test_predict)))\n",
        "print('accuracy score is {}\\n'.format(accuracyscore))\n",
        "print('precision score is {}\\n'.format(precisionscore))\n",
        "print('recall score is {}\\n'.format(recallscore))\n",
        "print('f1 score is {}'.format(f1score))\n",
        "print(\"\\n\")\n",
        "\n",
        "ax = plt.axes()\n",
        "sns.heatmap(confusionmatrix, annot=True, annot_kws={\"size\": 30}, fmt='d',cmap=\"Greys\", ax = ax )\n",
        "ax.set_title('Confusion Matrix')\n",
        "plt.show()"
      ],
      "execution_count": null,
      "outputs": [
        {
          "output_type": "stream",
          "text": [
            "\n",
            "\n",
            "The model performance for training set\n",
            "--------------------------------------\n",
            "classification_report\n",
            "              precision    recall  f1-score   support\n",
            "\n",
            "           0       1.00      1.00      1.00        10\n",
            "           1       1.00      0.89      0.94         9\n",
            "           2       0.92      1.00      0.96        11\n",
            "\n",
            "    accuracy                           0.97        30\n",
            "   macro avg       0.97      0.96      0.97        30\n",
            "weighted avg       0.97      0.97      0.97        30\n",
            "\n",
            "accuracy score is 0.9666666666666667\n",
            "\n",
            "precision score is 0.9722222222222222\n",
            "\n",
            "recall score is 0.9629629629629629\n",
            "\n",
            "f1 score is 0.9658994032395567\n",
            "\n",
            "\n"
          ],
          "name": "stdout"
        },
        {
          "output_type": "display_data",
          "data": {
            "image/png": "[encoded data removed]",
            "text/plain": [
              "<Figure size 432x288 with 2 Axes>"
            ]
          },
          "metadata": {
            "tags": []
          }
        }
      ]
    },
    {
      "cell_type": "markdown",
      "metadata": {
        "id": "YXLQyA-c8rUL"
      },
      "source": [
        "# **Predict probabilities for testing data**"
      ]
    },
    {
      "cell_type": "code",
      "metadata": {
        "colab": {
          "base_uri": "https://localhost:8080/"
        },
        "id": "HV9gMKk7u_CK",
        "outputId": "f2d04d8d-4265-4f5e-fb77-b270b47f5f8a"
      },
      "source": [
        "probs_y = grid.predict_proba(X_test)\r\n",
        "\r\n",
        "probs_y = np.round(probs_y, 2)\r\n",
        "\r\n",
        "res = \"{:<5} | {:<10} | {:<14} | {:<10} | {:<13} | {:<5}\".format(\"No.\",\"y_test\", \"y_test_predict\", \"Setosa(%)\", \"versicolor(%)\", \"virginica(%)\\n\")\r\n",
        "res += \"-\"*79+\"\\n\"\r\n",
        "res += \"\\n\".join(\"{:<5} | {:<10} | {:<14} | {:<10} | {:<13} | {:<10}\".\r\n",
        "                 format(i, x, y, a, b, c) for i, x, y, a, b, c in zip(range(y_test.shape[0]), y_test, y_test_predict, probs_y[:,0], probs_y[:,1], probs_y[:,2]))\r\n",
        "res += \"\\n\"+\"-\"*79+\"\\n\"\r\n",
        "print(res)"
      ],
      "execution_count": null,
      "outputs": [
        {
          "output_type": "stream",
          "text": [
            "No.   | y_test     | y_test_predict | Setosa(%)  | versicolor(%) | virginica(%)\n",
            "-------------------------------------------------------------------------------\n",
            "0     | 1          | 1              | 0.01       | 0.96          | 0.03      \n",
            "1     | 0          | 0              | 0.96       | 0.02          | 0.02      \n",
            "2     | 2          | 2              | 0.0        | 0.0           | 1.0       \n",
            "3     | 1          | 1              | 0.01       | 0.9           | 0.09      \n",
            "4     | 1          | 1              | 0.01       | 0.83          | 0.16      \n",
            "5     | 0          | 0              | 0.93       | 0.05          | 0.02      \n",
            "6     | 1          | 1              | 0.04       | 0.94          | 0.01      \n",
            "7     | 2          | 2              | 0.01       | 0.01          | 0.98      \n",
            "8     | 1          | 2              | 0.02       | 0.34          | 0.65      \n",
            "9     | 1          | 1              | 0.02       | 0.97          | 0.01      \n",
            "10    | 2          | 2              | 0.01       | 0.14          | 0.85      \n",
            "11    | 0          | 0              | 0.95       | 0.04          | 0.01      \n",
            "12    | 0          | 0              | 0.97       | 0.02          | 0.01      \n",
            "13    | 0          | 0              | 0.95       | 0.04          | 0.01      \n",
            "14    | 0          | 0              | 0.98       | 0.01          | 0.01      \n",
            "15    | 1          | 1              | 0.02       | 0.92          | 0.06      \n",
            "16    | 2          | 2              | 0.01       | 0.0           | 0.99      \n",
            "17    | 1          | 1              | 0.02       | 0.97          | 0.01      \n",
            "18    | 1          | 1              | 0.01       | 0.96          | 0.03      \n",
            "19    | 2          | 2              | 0.01       | 0.0           | 0.99      \n",
            "20    | 0          | 0              | 0.96       | 0.03          | 0.01      \n",
            "21    | 2          | 2              | 0.02       | 0.36          | 0.63      \n",
            "22    | 0          | 0              | 0.94       | 0.04          | 0.02      \n",
            "23    | 2          | 2              | 0.01       | 0.0           | 0.99      \n",
            "24    | 2          | 2              | 0.01       | 0.05          | 0.93      \n",
            "25    | 2          | 2              | 0.01       | 0.01          | 0.99      \n",
            "26    | 2          | 2              | 0.01       | 0.01          | 0.99      \n",
            "27    | 2          | 2              | 0.01       | 0.0           | 0.99      \n",
            "28    | 0          | 0              | 0.93       | 0.06          | 0.01      \n",
            "29    | 0          | 0              | 0.94       | 0.04          | 0.01      \n",
            "-------------------------------------------------------------------------------\n",
            "\n"
          ],
          "name": "stdout"
        }
      ]
    },
    {
      "cell_type": "markdown",
      "metadata": {
        "id": "uKC6QWrDCH59"
      },
      "source": [
        "# **Sources**\r\n",
        "\r\n",
        "1.   https://github.com/snrazavi/Machine_Learning_2018/blob/master/7-SVM/svm_parameters-spiral_dataset.ipynb\r\n",
        "\r\n",
        "2.   https://github.com/GautamVijay/Logistic-Regression-on-IRIS-Dataset/blob/master/Logistic%20Regression%20(IRIS).ipynb\r\n",
        "\r\n",
        "3.   https://randerson112358.medium.com/python-logistic-regression-program-5e1b32f964db\r\n",
        "\r\n",
        "4.   https://scikit-learn.org/stable/modules/generated/sklearn.model_selection.StratifiedKFold.html#sklearn.model_selection.StratifiedKFold\r\n",
        "\r\n",
        "5.   https://scikit-learn.org/stable/modules/generated/sklearn.model_selection.GridSearchCV.html#sklearn.model_selection.GridSearchCV\r\n",
        "\r\n",
        "6.   https://scikit-learn.org/stable/modules/generated/sklearn.svm.SVC.html#sklearn.svm.SVC"
      ]
    }
  ]
}