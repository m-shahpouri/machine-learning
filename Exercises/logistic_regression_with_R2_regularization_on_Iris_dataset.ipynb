{
  "nbformat": 4,
  "nbformat_minor": 0,
  "metadata": {
    "colab": {
      "name": "logistic regression with R2 regularization on Iris dataset.ipynb",
      "provenance": [],
      "collapsed_sections": []
    },
    "kernelspec": {
      "display_name": "Python 3",
      "language": "python",
      "name": "python3"
    },
    "language_info": {
      "codemirror_mode": {
        "name": "ipython",
        "version": 3
      },
      "file_extension": ".py",
      "mimetype": "text/x-python",
      "name": "python",
      "nbconvert_exporter": "python",
      "pygments_lexer": "ipython3",
      "version": "3.5.6"
    }
  },
  "cells": [
    {
      "cell_type": "markdown",
      "metadata": {
        "id": "Mx39Usgju_B6"
      },
      "source": [
        "# **Logistic regression with R2 regularization on Iris dataset**\r\n",
        "\r\n",
        "# **Import packages**"
      ]
    },
    {
      "cell_type": "code",
      "metadata": {
        "id": "obvK89vau_CE"
      },
      "source": [
        "import numpy as np\n",
        "import pandas as pd\n",
        "import seaborn as sns \n",
        "from matplotlib import pyplot as plt"
      ],
      "execution_count": 49,
      "outputs": []
    },
    {
      "cell_type": "markdown",
      "metadata": {
        "id": "TUg5RFUX16ZD"
      },
      "source": [
        "# **Load data**"
      ]
    },
    {
      "cell_type": "code",
      "metadata": {
        "colab": {
          "base_uri": "https://localhost:8080/",
          "height": 204
        },
        "id": "q2UAKKuCu_CF",
        "outputId": "b392c5bd-e7bd-46e7-e00b-bad4c40613db"
      },
      "source": [
        "from sklearn.datasets import load_iris\n",
        "\n",
        "iris_dataset = load_iris()\n",
        "iris = pd.DataFrame(iris_dataset.data, columns=iris_dataset.feature_names)\n",
        "iris['class'] = iris_dataset.target\n",
        "iris.head()"
      ],
      "execution_count": 50,
      "outputs": [
        {
          "output_type": "execute_result",
          "data": {
            "text/html": [
              "<div>\n",
              "<style scoped>\n",
              "    .dataframe tbody tr th:only-of-type {\n",
              "        vertical-align: middle;\n",
              "    }\n",
              "\n",
              "    .dataframe tbody tr th {\n",
              "        vertical-align: top;\n",
              "    }\n",
              "\n",
              "    .dataframe thead th {\n",
              "        text-align: right;\n",
              "    }\n",
              "</style>\n",
              "<table border=\"1\" class=\"dataframe\">\n",
              "  <thead>\n",
              "    <tr style=\"text-align: right;\">\n",
              "      <th></th>\n",
              "      <th>sepal length (cm)</th>\n",
              "      <th>sepal width (cm)</th>\n",
              "      <th>petal length (cm)</th>\n",
              "      <th>petal width (cm)</th>\n",
              "      <th>class</th>\n",
              "    </tr>\n",
              "  </thead>\n",
              "  <tbody>\n",
              "    <tr>\n",
              "      <th>0</th>\n",
              "      <td>5.1</td>\n",
              "      <td>3.5</td>\n",
              "      <td>1.4</td>\n",
              "      <td>0.2</td>\n",
              "      <td>0</td>\n",
              "    </tr>\n",
              "    <tr>\n",
              "      <th>1</th>\n",
              "      <td>4.9</td>\n",
              "      <td>3.0</td>\n",
              "      <td>1.4</td>\n",
              "      <td>0.2</td>\n",
              "      <td>0</td>\n",
              "    </tr>\n",
              "    <tr>\n",
              "      <th>2</th>\n",
              "      <td>4.7</td>\n",
              "      <td>3.2</td>\n",
              "      <td>1.3</td>\n",
              "      <td>0.2</td>\n",
              "      <td>0</td>\n",
              "    </tr>\n",
              "    <tr>\n",
              "      <th>3</th>\n",
              "      <td>4.6</td>\n",
              "      <td>3.1</td>\n",
              "      <td>1.5</td>\n",
              "      <td>0.2</td>\n",
              "      <td>0</td>\n",
              "    </tr>\n",
              "    <tr>\n",
              "      <th>4</th>\n",
              "      <td>5.0</td>\n",
              "      <td>3.6</td>\n",
              "      <td>1.4</td>\n",
              "      <td>0.2</td>\n",
              "      <td>0</td>\n",
              "    </tr>\n",
              "  </tbody>\n",
              "</table>\n",
              "</div>"
            ],
            "text/plain": [
              "   sepal length (cm)  sepal width (cm)  ...  petal width (cm)  class\n",
              "0                5.1               3.5  ...               0.2      0\n",
              "1                4.9               3.0  ...               0.2      0\n",
              "2                4.7               3.2  ...               0.2      0\n",
              "3                4.6               3.1  ...               0.2      0\n",
              "4                5.0               3.6  ...               0.2      0\n",
              "\n",
              "[5 rows x 5 columns]"
            ]
          },
          "metadata": {
            "tags": []
          },
          "execution_count": 50
        }
      ]
    },
    {
      "cell_type": "markdown",
      "metadata": {
        "id": "-PgZrZhEJlZU"
      },
      "source": [
        "# **Dataset description**"
      ]
    },
    {
      "cell_type": "code",
      "metadata": {
        "colab": {
          "base_uri": "https://localhost:8080/"
        },
        "id": "DItxrexGu_CF",
        "scrolled": true,
        "outputId": "6c8b5e57-e488-4edf-e3d0-42e71af31bdc"
      },
      "source": [
        "print(iris_dataset.DESCR)"
      ],
      "execution_count": 51,
      "outputs": [
        {
          "output_type": "stream",
          "text": [
            ".. _iris_dataset:\n",
            "\n",
            "Iris plants dataset\n",
            "--------------------\n",
            "\n",
            "**Data Set Characteristics:**\n",
            "\n",
            "    :Number of Instances: 150 (50 in each of three classes)\n",
            "    :Number of Attributes: 4 numeric, predictive attributes and the class\n",
            "    :Attribute Information:\n",
            "        - sepal length in cm\n",
            "        - sepal width in cm\n",
            "        - petal length in cm\n",
            "        - petal width in cm\n",
            "        - class:\n",
            "                - Iris-Setosa\n",
            "                - Iris-Versicolour\n",
            "                - Iris-Virginica\n",
            "                \n",
            "    :Summary Statistics:\n",
            "\n",
            "    ============== ==== ==== ======= ===== ====================\n",
            "                    Min  Max   Mean    SD   Class Correlation\n",
            "    ============== ==== ==== ======= ===== ====================\n",
            "    sepal length:   4.3  7.9   5.84   0.83    0.7826\n",
            "    sepal width:    2.0  4.4   3.05   0.43   -0.4194\n",
            "    petal length:   1.0  6.9   3.76   1.76    0.9490  (high!)\n",
            "    petal width:    0.1  2.5   1.20   0.76    0.9565  (high!)\n",
            "    ============== ==== ==== ======= ===== ====================\n",
            "\n",
            "    :Missing Attribute Values: None\n",
            "    :Class Distribution: 33.3% for each of 3 classes.\n",
            "    :Creator: R.A. Fisher\n",
            "    :Donor: Michael Marshall (MARSHALL%PLU@io.arc.nasa.gov)\n",
            "    :Date: July, 1988\n",
            "\n",
            "The famous Iris database, first used by Sir R.A. Fisher. The dataset is taken\n",
            "from Fisher's paper. Note that it's the same as in R, but not as in the UCI\n",
            "Machine Learning Repository, which has two wrong data points.\n",
            "\n",
            "This is perhaps the best known database to be found in the\n",
            "pattern recognition literature.  Fisher's paper is a classic in the field and\n",
            "is referenced frequently to this day.  (See Duda & Hart, for example.)  The\n",
            "data set contains 3 classes of 50 instances each, where each class refers to a\n",
            "type of iris plant.  One class is linearly separable from the other 2; the\n",
            "latter are NOT linearly separable from each other.\n",
            "\n",
            ".. topic:: References\n",
            "\n",
            "   - Fisher, R.A. \"The use of multiple measurements in taxonomic problems\"\n",
            "     Annual Eugenics, 7, Part II, 179-188 (1936); also in \"Contributions to\n",
            "     Mathematical Statistics\" (John Wiley, NY, 1950).\n",
            "   - Duda, R.O., & Hart, P.E. (1973) Pattern Classification and Scene Analysis.\n",
            "     (Q327.D83) John Wiley & Sons.  ISBN 0-471-22361-1.  See page 218.\n",
            "   - Dasarathy, B.V. (1980) \"Nosing Around the Neighborhood: A New System\n",
            "     Structure and Classification Rule for Recognition in Partially Exposed\n",
            "     Environments\".  IEEE Transactions on Pattern Analysis and Machine\n",
            "     Intelligence, Vol. PAMI-2, No. 1, 67-71.\n",
            "   - Gates, G.W. (1972) \"The Reduced Nearest Neighbor Rule\".  IEEE Transactions\n",
            "     on Information Theory, May 1972, 431-433.\n",
            "   - See also: 1988 MLC Proceedings, 54-64.  Cheeseman et al\"s AUTOCLASS II\n",
            "     conceptual clustering system finds 3 classes in the data.\n",
            "   - Many, many more ...\n"
          ],
          "name": "stdout"
        }
      ]
    },
    {
      "cell_type": "markdown",
      "metadata": {
        "id": "l4LSXq65FkHe"
      },
      "source": [
        "# **Exploratory data analysis**"
      ]
    },
    {
      "cell_type": "code",
      "metadata": {
        "colab": {
          "base_uri": "https://localhost:8080/",
          "height": 376
        },
        "id": "OGhgdRv-8sub",
        "outputId": "a4c82faa-109b-42da-9b40-0e8099158e5f"
      },
      "source": [
        "correlation_matrix = iris.corr()\r\n",
        "sns.heatmap(data=correlation_matrix, annot=True,cmap='Greys')"
      ],
      "execution_count": 52,
      "outputs": [
        {
          "output_type": "execute_result",
          "data": {
            "text/plain": [
              "<matplotlib.axes._subplots.AxesSubplot at 0x7fd5e865fb00>"
            ]
          },
          "metadata": {
            "tags": []
          },
          "execution_count": 52
        },
        {
          "output_type": "display_data",
          "data": {
            "image/png": "[encoded data removed]",
            "text/plain": [
              "<Figure size 432x288 with 2 Axes>"
            ]
          },
          "metadata": {
            "tags": []
          }
        }
      ]
    },
    {
      "cell_type": "markdown",
      "metadata": {
        "id": "ENwZaBpo34Pz"
      },
      "source": [
        "# **Observations**"
      ]
    },
    {
      "cell_type": "code",
      "metadata": {
        "colab": {
          "base_uri": "https://localhost:8080/",
          "height": 341
        },
        "id": "bZN4cTFf3Hto",
        "outputId": "a433b3cd-8556-4071-e72e-ccefd8e2ac02"
      },
      "source": [
        "sns.set()\r\n",
        "fig, axes = plt.subplots(1, 4, figsize=(20, 5))\r\n",
        "\r\n",
        "features = ['sepal length (cm)', 'sepal width (cm)', 'petal length (cm)', 'petal width (cm)']\r\n",
        "target = ['class']\r\n",
        "\r\n",
        "sns.set_theme(style=\"ticks\")\r\n",
        "for i, col in enumerate(features):\r\n",
        "  sns.stripplot(ax=axes[i], x=target[0], y=col, data=iris)"
      ],
      "execution_count": 53,
      "outputs": [
        {
          "output_type": "display_data",
          "data": {
            "image/png": "[encoded data removed]",
            "text/plain": [
              "<Figure size 1440x360 with 4 Axes>"
            ]
          },
          "metadata": {
            "tags": []
          }
        }
      ]
    },
    {
      "cell_type": "markdown",
      "metadata": {
        "id": "hUgwQSuSKosr"
      },
      "source": [
        "# **Data preprocessing**"
      ]
    },
    {
      "cell_type": "code",
      "metadata": {
        "colab": {
          "base_uri": "https://localhost:8080/"
        },
        "id": "O4KZEd7HKpr2",
        "outputId": "6e763dfc-7cb0-427d-f2c8-c451b0cd3b55"
      },
      "source": [
        "iris.isnull().sum()"
      ],
      "execution_count": 54,
      "outputs": [
        {
          "output_type": "execute_result",
          "data": {
            "text/plain": [
              "sepal length (cm)    0\n",
              "sepal width (cm)     0\n",
              "petal length (cm)    0\n",
              "petal width (cm)     0\n",
              "class                0\n",
              "dtype: int64"
            ]
          },
          "metadata": {
            "tags": []
          },
          "execution_count": 54
        }
      ]
    },
    {
      "cell_type": "markdown",
      "metadata": {
        "id": "sQ-BS5qZ4NQG"
      },
      "source": [
        "\r\n",
        "\r\n",
        "> # **Splitting the data into training and testing sets**\r\n",
        "\r\n"
      ]
    },
    {
      "cell_type": "code",
      "metadata": {
        "colab": {
          "base_uri": "https://localhost:8080/"
        },
        "id": "NC5zVeSVu_CI",
        "outputId": "3681857a-eafb-4a25-c992-5fddf007e970"
      },
      "source": [
        "from sklearn.model_selection import train_test_split\n",
        "\n",
        "X = iris.iloc[:, [0, 1, 2, 3]].values\n",
        "y = iris.iloc[:, 4].values\n",
        "\n",
        "X_train, X_test, y_train, y_test = train_test_split(X, y, test_size = 0.25, random_state = 0)\n",
        "\n",
        "print(\"X_train.shape: \", X_train.shape)\n",
        "print(\"X_test.shape: \", X_test.shape)\n",
        "print(\"Y_train.shape: \", y_train.shape)\n",
        "print(\"Y_test.shape: \", y_test.shape)"
      ],
      "execution_count": 55,
      "outputs": [
        {
          "output_type": "stream",
          "text": [
            "X_train.shape:  (112, 4)\n",
            "X_test.shape:  (38, 4)\n",
            "Y_train.shape:  (112,)\n",
            "Y_test.shape:  (38,)\n"
          ],
          "name": "stdout"
        }
      ]
    },
    {
      "cell_type": "markdown",
      "metadata": {
        "id": "i9esmnDqKBBs"
      },
      "source": [
        "\r\n",
        "> # **Feature Scaling**\r\n",
        "\r\n"
      ]
    },
    {
      "cell_type": "code",
      "metadata": {
        "id": "v2f3dPQvu_CI"
      },
      "source": [
        "from sklearn.preprocessing import StandardScaler\n",
        "\n",
        "scaler = StandardScaler()\n",
        "X_train = scaler.fit_transform(X_train)\n",
        "X_test = scaler.transform(X_test)"
      ],
      "execution_count": 56,
      "outputs": []
    },
    {
      "cell_type": "markdown",
      "metadata": {
        "id": "1UiIKzZv41kG"
      },
      "source": [
        "# **Logistic Regression**"
      ]
    },
    {
      "cell_type": "code",
      "metadata": {
        "colab": {
          "base_uri": "https://localhost:8080/"
        },
        "id": "Ig2qRnY8u_CJ",
        "outputId": "c3fab4fd-0a92-4ebe-f5ba-9c5a4922783b"
      },
      "source": [
        "from sklearn.metrics import confusion_matrix, accuracy_score, precision_score, recall_score, f1_score, classification_report\n",
        "from sklearn.linear_model import LogisticRegression\n",
        "\n",
        "classifier = LogisticRegression(C= 1, penalty='l2', solver='lbfgs', multi_class='multinomial')\n",
        "classifier.fit(X_train, y_train)"
      ],
      "execution_count": 57,
      "outputs": [
        {
          "output_type": "execute_result",
          "data": {
            "text/plain": [
              "LogisticRegression(C=1, class_weight=None, dual=False, fit_intercept=True,\n",
              "                   intercept_scaling=1, l1_ratio=None, max_iter=100,\n",
              "                   multi_class='multinomial', n_jobs=None, penalty='l2',\n",
              "                   random_state=None, solver='lbfgs', tol=0.0001, verbose=0,\n",
              "                   warm_start=False)"
            ]
          },
          "metadata": {
            "tags": []
          },
          "execution_count": 57
        }
      ]
    },
    {
      "cell_type": "code",
      "metadata": {
        "colab": {
          "base_uri": "https://localhost:8080/"
        },
        "id": "p5AttQ-v60Jw",
        "outputId": "40035a52-1c90-4b18-8fdb-6e3d5d2761a4"
      },
      "source": [
        "print(\"A list of class labels known to the classifier:\\n{}\\n\".format(classifier.classes_))\r\n",
        "print(\"Coefficient of the features:\\n{}\\n\".format(classifier.coef_))\r\n",
        "print(\"Intercept:\\n{}\\n\".format(classifier.intercept_))\r\n",
        "print(\"Maximum number of iterations taken for the solvers to converge:\\n{}\\n\".format(classifier.n_iter_))"
      ],
      "execution_count": 58,
      "outputs": [
        {
          "output_type": "stream",
          "text": [
            "A list of class labels known to the classifier:\n",
            "[0 1 2]\n",
            "\n",
            "Coefficient of the features:\n",
            "[[-1.02165072  1.04304426 -1.77967589 -1.65948094]\n",
            " [ 0.54202301 -0.35993829 -0.26684495 -0.71829753]\n",
            " [ 0.47962771 -0.68310597  2.04652083  2.37777846]]\n",
            "\n",
            "Intercept:\n",
            "[-0.42166046  1.76980783 -1.34814737]\n",
            "\n",
            "Maximum number of iterations taken for the solvers to converge:\n",
            "[19]\n",
            "\n"
          ],
          "name": "stdout"
        }
      ]
    },
    {
      "cell_type": "markdown",
      "metadata": {
        "id": "y9tYB2do4_Id"
      },
      "source": [
        "# **Model evaluation for training data**"
      ]
    },
    {
      "cell_type": "code",
      "metadata": {
        "colab": {
          "base_uri": "https://localhost:8080/",
          "height": 692
        },
        "id": "fh-ZOuZ75Ba_",
        "outputId": "ac2a59a0-d869-43a5-a40a-b33918d3e0bb"
      },
      "source": [
        "y_train_predict = classifier.predict(X_train)\r\n",
        "\r\n",
        "confusionmatrix = confusion_matrix(y_train, y_train_predict)\r\n",
        "accuracyscore = accuracy_score(y_train, y_train_predict)\r\n",
        "precisionscore = precision_score(y_train, y_train_predict, average='macro')\r\n",
        "recallscore = recall_score(y_train, y_train_predict, average='macro')\r\n",
        "f1score = f1_score(y_train, y_train_predict, average='macro')\r\n",
        "\r\n",
        "print(\"\\n\")\r\n",
        "print(\"The model performance for training set\")\r\n",
        "print(\"--------------------------------------\")\r\n",
        "print('classification report\\n{}'.format(classification_report(y_train, y_train_predict)))\r\n",
        "print('accuracy score is {}\\n'.format(accuracyscore))\r\n",
        "print('precision score is {}\\n'.format(precisionscore))\r\n",
        "print('recall score is {}\\n'.format(recallscore))\r\n",
        "print('f1 score is {}'.format(f1score))\r\n",
        "print(\"\\n\")\r\n",
        "\r\n",
        "ax = plt.axes()\r\n",
        "sns.heatmap(confusionmatrix, annot=True, annot_kws={\"size\": 30}, fmt='d',cmap=\"Greys\", ax = ax )\r\n",
        "ax.set_title('Confusion Matrix')\r\n",
        "plt.show()"
      ],
      "execution_count": 59,
      "outputs": [
        {
          "output_type": "stream",
          "text": [
            "\n",
            "\n",
            "The model performance for training set\n",
            "--------------------------------------\n",
            "classification report\n",
            "              precision    recall  f1-score   support\n",
            "\n",
            "           0       1.00      1.00      1.00        37\n",
            "           1       0.97      0.94      0.96        34\n",
            "           2       0.95      0.98      0.96        41\n",
            "\n",
            "    accuracy                           0.97       112\n",
            "   macro avg       0.97      0.97      0.97       112\n",
            "weighted avg       0.97      0.97      0.97       112\n",
            "\n",
            "accuracy score is 0.9732142857142857\n",
            "\n",
            "precision score is 0.9740259740259741\n",
            "\n",
            "recall score is 0.9722620755619321\n",
            "\n",
            "f1 score is 0.9730264340945873\n",
            "\n",
            "\n"
          ],
          "name": "stdout"
        },
        {
          "output_type": "display_data",
          "data": {
            "image/png": "[encoded data removed]",
            "text/plain": [
              "<Figure size 432x288 with 2 Axes>"
            ]
          },
          "metadata": {
            "tags": []
          }
        }
      ]
    },
    {
      "cell_type": "markdown",
      "metadata": {
        "id": "fhgPeC8LBjPr"
      },
      "source": [
        "# **Predict probabilities for training data**"
      ]
    },
    {
      "cell_type": "code",
      "metadata": {
        "colab": {
          "base_uri": "https://localhost:8080/"
        },
        "id": "MmxPeeUOBlJa",
        "outputId": "97124116-93bb-43b9-b582-9ec75d20b4ae"
      },
      "source": [
        "probs_y_train=classifier.predict_proba(X_train)\r\n",
        "\r\n",
        "probs_y_train = np.round(probs_y_train, 2)\r\n",
        "\r\n",
        "res = \"{:<5} | {:<10} | {:<15} | {:<10} | {:<13} | {:<5}\".format(\"No.\", \"y_train\", \"y_train_predict\", \"Setosa(%)\", \"versicolor(%)\", \"virginica(%)\\n\")\r\n",
        "res += \"-\"*80+\"\\n\"\r\n",
        "res += \"\\n\".join(\"{:<5} | {:<10} | {:<15} | {:<10} | {:<13} | {:<10}\".\r\n",
        "                 format(i, x, y, a, b, c) for i, x, y, a, b, c in zip(range(y_train.shape[0]), y_train, y_train_predict, probs_y_train[:,0], probs_y_train[:,1], probs_y_train[:,2]))\r\n",
        "\r\n",
        "res += \"\\n\"+\"-\"*80+\"\\n\"\r\n",
        "print(res)"
      ],
      "execution_count": 60,
      "outputs": [
        {
          "output_type": "stream",
          "text": [
            "No.   | y_train    | y_train_predict | Setosa(%)  | versicolor(%) | virginica(%)\n",
            "--------------------------------------------------------------------------------\n",
            "0     | 1          | 1               | 0.04       | 0.78          | 0.18      \n",
            "1     | 1          | 1               | 0.02       | 0.91          | 0.07      \n",
            "2     | 2          | 2               | 0.0        | 0.07          | 0.93      \n",
            "3     | 0          | 0               | 0.98       | 0.02          | 0.0       \n",
            "4     | 2          | 2               | 0.0        | 0.06          | 0.94      \n",
            "5     | 0          | 0               | 0.97       | 0.03          | 0.0       \n",
            "6     | 0          | 0               | 0.98       | 0.02          | 0.0       \n",
            "7     | 1          | 1               | 0.03       | 0.94          | 0.03      \n",
            "8     | 2          | 2               | 0.0        | 0.2           | 0.8       \n",
            "9     | 2          | 2               | 0.0        | 0.02          | 0.98      \n",
            "10    | 2          | 2               | 0.0        | 0.46          | 0.54      \n",
            "11    | 2          | 2               | 0.0        | 0.11          | 0.89      \n",
            "12    | 1          | 1               | 0.03       | 0.92          | 0.04      \n",
            "13    | 2          | 2               | 0.0        | 0.02          | 0.98      \n",
            "14    | 1          | 1               | 0.02       | 0.65          | 0.33      \n",
            "15    | 1          | 1               | 0.03       | 0.93          | 0.04      \n",
            "16    | 2          | 2               | 0.0        | 0.3           | 0.7       \n",
            "17    | 2          | 1               | 0.0        | 0.54          | 0.45      \n",
            "18    | 2          | 2               | 0.02       | 0.45          | 0.53      \n",
            "19    | 2          | 2               | 0.0        | 0.18          | 0.82      \n",
            "20    | 1          | 1               | 0.01       | 0.8           | 0.19      \n",
            "21    | 2          | 2               | 0.0        | 0.14          | 0.86      \n",
            "22    | 1          | 1               | 0.07       | 0.68          | 0.26      \n",
            "23    | 0          | 0               | 0.95       | 0.05          | 0.0       \n",
            "24    | 2          | 2               | 0.0        | 0.18          | 0.82      \n",
            "25    | 1          | 1               | 0.03       | 0.85          | 0.11      \n",
            "26    | 1          | 1               | 0.1        | 0.85          | 0.05      \n",
            "27    | 1          | 1               | 0.03       | 0.87          | 0.11      \n",
            "28    | 1          | 1               | 0.02       | 0.78          | 0.2       \n",
            "29    | 2          | 2               | 0.0        | 0.14          | 0.86      \n",
            "30    | 0          | 0               | 0.98       | 0.02          | 0.0       \n",
            "31    | 0          | 0               | 0.98       | 0.02          | 0.0       \n",
            "32    | 2          | 2               | 0.0        | 0.15          | 0.85      \n",
            "33    | 1          | 1               | 0.08       | 0.86          | 0.06      \n",
            "34    | 0          | 0               | 0.94       | 0.06          | 0.0       \n",
            "35    | 0          | 0               | 1.0        | 0.0           | 0.0       \n",
            "36    | 1          | 1               | 0.0        | 0.67          | 0.33      \n",
            "37    | 0          | 0               | 0.97       | 0.03          | 0.0       \n",
            "38    | 2          | 2               | 0.0        | 0.29          | 0.71      \n",
            "39    | 1          | 1               | 0.15       | 0.84          | 0.01      \n",
            "40    | 0          | 0               | 0.99       | 0.01          | 0.0       \n",
            "41    | 1          | 1               | 0.0        | 0.62          | 0.38      \n",
            "42    | 2          | 2               | 0.0        | 0.01          | 0.99      \n",
            "43    | 1          | 1               | 0.05       | 0.85          | 0.1       \n",
            "44    | 0          | 0               | 0.95       | 0.05          | 0.0       \n",
            "45    | 2          | 2               | 0.0        | 0.05          | 0.95      \n",
            "46    | 2          | 2               | 0.0        | 0.03          | 0.97      \n",
            "47    | 2          | 2               | 0.0        | 0.03          | 0.97      \n",
            "48    | 2          | 2               | 0.0        | 0.05          | 0.95      \n",
            "49    | 0          | 0               | 0.99       | 0.01          | 0.0       \n",
            "50    | 0          | 0               | 0.98       | 0.02          | 0.0       \n",
            "51    | 2          | 2               | 0.0        | 0.18          | 0.82      \n",
            "52    | 2          | 2               | 0.0        | 0.07          | 0.93      \n",
            "53    | 0          | 0               | 0.75       | 0.25          | 0.0       \n",
            "54    | 2          | 2               | 0.0        | 0.05          | 0.95      \n",
            "55    | 0          | 0               | 0.94       | 0.06          | 0.0       \n",
            "56    | 2          | 2               | 0.0        | 0.12          | 0.88      \n",
            "57    | 2          | 2               | 0.0        | 0.09          | 0.91      \n",
            "58    | 0          | 0               | 0.99       | 0.01          | 0.0       \n",
            "59    | 0          | 0               | 0.99       | 0.01          | 0.0       \n",
            "60    | 2          | 2               | 0.0        | 0.29          | 0.71      \n",
            "61    | 0          | 0               | 0.98       | 0.02          | 0.0       \n",
            "62    | 0          | 0               | 0.98       | 0.02          | 0.0       \n",
            "63    | 0          | 0               | 0.99       | 0.01          | 0.0       \n",
            "64    | 1          | 1               | 0.01       | 0.87          | 0.12      \n",
            "65    | 2          | 2               | 0.0        | 0.02          | 0.98      \n",
            "66    | 2          | 2               | 0.0        | 0.02          | 0.98      \n",
            "67    | 0          | 0               | 0.98       | 0.02          | 0.0       \n",
            "68    | 0          | 0               | 0.95       | 0.05          | 0.0       \n",
            "69    | 0          | 0               | 0.97       | 0.03          | 0.0       \n",
            "70    | 1          | 1               | 0.03       | 0.82          | 0.15      \n",
            "71    | 1          | 1               | 0.01       | 0.83          | 0.16      \n",
            "72    | 0          | 0               | 0.96       | 0.04          | 0.0       \n",
            "73    | 0          | 0               | 0.94       | 0.06          | 0.0       \n",
            "74    | 1          | 1               | 0.01       | 0.88          | 0.11      \n",
            "75    | 0          | 0               | 0.94       | 0.06          | 0.0       \n",
            "76    | 2          | 2               | 0.0        | 0.0           | 1.0       \n",
            "77    | 1          | 1               | 0.14       | 0.85          | 0.01      \n",
            "78    | 2          | 2               | 0.0        | 0.07          | 0.93      \n",
            "79    | 1          | 1               | 0.01       | 0.84          | 0.15      \n",
            "80    | 0          | 0               | 1.0        | 0.0           | 0.0       \n",
            "81    | 2          | 2               | 0.01       | 0.37          | 0.62      \n",
            "82    | 0          | 0               | 0.99       | 0.01          | 0.0       \n",
            "83    | 2          | 2               | 0.0        | 0.02          | 0.98      \n",
            "84    | 0          | 0               | 0.99       | 0.01          | 0.0       \n",
            "85    | 0          | 0               | 0.97       | 0.03          | 0.0       \n",
            "86    | 2          | 2               | 0.0        | 0.07          | 0.93      \n",
            "87    | 0          | 0               | 0.97       | 0.03          | 0.0       \n",
            "88    | 2          | 2               | 0.0        | 0.03          | 0.97      \n",
            "89    | 1          | 1               | 0.04       | 0.86          | 0.09      \n",
            "90    | 1          | 1               | 0.04       | 0.91          | 0.05      \n",
            "91    | 1          | 1               | 0.06       | 0.93          | 0.02      \n",
            "92    | 2          | 2               | 0.0        | 0.05          | 0.95      \n",
            "93    | 2          | 2               | 0.0        | 0.05          | 0.95      \n",
            "94    | 1          | 1               | 0.0        | 0.55          | 0.45      \n",
            "95    | 1          | 2               | 0.0        | 0.42          | 0.58      \n",
            "96    | 0          | 0               | 0.91       | 0.09          | 0.0       \n",
            "97    | 1          | 1               | 0.04       | 0.94          | 0.03      \n",
            "98    | 2          | 2               | 0.0        | 0.02          | 0.98      \n",
            "99    | 2          | 2               | 0.0        | 0.18          | 0.82      \n",
            "100   | 0          | 0               | 0.97       | 0.03          | 0.0       \n",
            "101   | 1          | 1               | 0.01       | 0.84          | 0.15      \n",
            "102   | 1          | 1               | 0.09       | 0.83          | 0.08      \n",
            "103   | 1          | 2               | 0.02       | 0.4           | 0.58      \n",
            "104   | 1          | 1               | 0.0        | 0.82          | 0.18      \n",
            "105   | 0          | 0               | 0.96       | 0.04          | 0.0       \n",
            "106   | 0          | 0               | 0.99       | 0.01          | 0.0       \n",
            "107   | 0          | 0               | 0.95       | 0.05          | 0.0       \n",
            "108   | 2          | 2               | 0.0        | 0.17          | 0.83      \n",
            "109   | 1          | 1               | 0.04       | 0.93          | 0.03      \n",
            "110   | 2          | 2               | 0.0        | 0.02          | 0.98      \n",
            "111   | 0          | 0               | 0.98       | 0.02          | 0.0       \n",
            "--------------------------------------------------------------------------------\n",
            "\n"
          ],
          "name": "stdout"
        }
      ]
    },
    {
      "cell_type": "markdown",
      "metadata": {
        "id": "Lo5MyDSD7YUI"
      },
      "source": [
        "# **Model evaluation for testing data**"
      ]
    },
    {
      "cell_type": "code",
      "metadata": {
        "colab": {
          "base_uri": "https://localhost:8080/",
          "height": 692
        },
        "id": "VywJfMmdu_CJ",
        "outputId": "d11fb313-7182-4568-f5ce-6d733d1385d4"
      },
      "source": [
        "y_test_predict = classifier.predict(X_test)\n",
        "\n",
        "confusionmatrix = confusion_matrix(y_test, y_test_predict)\n",
        "raccuracyscore = accuracy_score(y_test, y_test_predict)\n",
        "precisionscore = precision_score(y_test, y_test_predict, average='macro')\n",
        "recallscore = recall_score(y_test, y_test_predict, average='macro')\n",
        "f1score = f1_score(y_test, y_test_predict, average='macro')\n",
        "\n",
        "print(\"\\n\")\n",
        "print(\"The model performance for training set\")\n",
        "print(\"--------------------------------------\")\n",
        "print('classification_report\\n{}'.format(classification_report(y_test, y_test_predict)))\n",
        "print('accuracy score is {}\\n'.format(accuracyscore))\n",
        "print('precision score is {}\\n'.format(precisionscore))\n",
        "print('recall score is {}\\n'.format(recallscore))\n",
        "print('f1 score is {}'.format(f1score))\n",
        "print(\"\\n\")\n",
        "\n",
        "ax = plt.axes()\n",
        "sns.heatmap(confusionmatrix, annot=True, annot_kws={\"size\": 30}, fmt='d',cmap=\"Greys\", ax = ax )\n",
        "ax.set_title('Confusion Matrix')\n",
        "plt.show()"
      ],
      "execution_count": 61,
      "outputs": [
        {
          "output_type": "stream",
          "text": [
            "\n",
            "\n",
            "The model performance for training set\n",
            "--------------------------------------\n",
            "classification_report\n",
            "              precision    recall  f1-score   support\n",
            "\n",
            "           0       1.00      1.00      1.00        13\n",
            "           1       1.00      0.94      0.97        16\n",
            "           2       0.90      1.00      0.95         9\n",
            "\n",
            "    accuracy                           0.97        38\n",
            "   macro avg       0.97      0.98      0.97        38\n",
            "weighted avg       0.98      0.97      0.97        38\n",
            "\n",
            "accuracy score is 0.9732142857142857\n",
            "\n",
            "precision score is 0.9666666666666667\n",
            "\n",
            "recall score is 0.9791666666666666\n",
            "\n",
            "f1 score is 0.9717034521788342\n",
            "\n",
            "\n"
          ],
          "name": "stdout"
        },
        {
          "output_type": "display_data",
          "data": {
            "image/png": "[encoded data removed]",
            "text/plain": [
              "<Figure size 432x288 with 2 Axes>"
            ]
          },
          "metadata": {
            "tags": []
          }
        }
      ]
    },
    {
      "cell_type": "markdown",
      "metadata": {
        "id": "YXLQyA-c8rUL"
      },
      "source": [
        "# **Predict probabilities for testing data**"
      ]
    },
    {
      "cell_type": "code",
      "metadata": {
        "colab": {
          "base_uri": "https://localhost:8080/"
        },
        "id": "HV9gMKk7u_CK",
        "outputId": "be50f202-e173-4c18-b2ba-debfc1769335"
      },
      "source": [
        "probs_y=classifier.predict_proba(X_test)\r\n",
        "\r\n",
        "probs_y = np.round(probs_y, 2)\r\n",
        "\r\n",
        "res = \"{:<5} | {:<10} | {:<14} | {:<10} | {:<13} | {:<5}\".format(\"No.\",\"y_test\", \"y_test_predict\", \"Setosa(%)\", \"versicolor(%)\", \"virginica(%)\\n\")\r\n",
        "res += \"-\"*79+\"\\n\"\r\n",
        "res += \"\\n\".join(\"{:<5} | {:<10} | {:<14} | {:<10} | {:<13} | {:<10}\".\r\n",
        "                 format(i, x, y, a, b, c) for i, x, y, a, b, c in zip(range(y_test.shape[0]), y_test, y_test_predict, probs_y[:,0], probs_y[:,1], probs_y[:,2]))\r\n",
        "res += \"\\n\"+\"-\"*79+\"\\n\"\r\n",
        "print(res)"
      ],
      "execution_count": 62,
      "outputs": [
        {
          "output_type": "stream",
          "text": [
            "No.   | y_test     | y_test_predict | Setosa(%)  | versicolor(%) | virginica(%)\n",
            "-------------------------------------------------------------------------------\n",
            "0     | 2          | 2              | 0.0        | 0.03          | 0.97      \n",
            "1     | 1          | 1              | 0.01       | 0.95          | 0.04      \n",
            "2     | 0          | 0              | 1.0        | 0.0           | 0.0       \n",
            "3     | 2          | 2              | 0.0        | 0.08          | 0.92      \n",
            "4     | 0          | 0              | 0.98       | 0.02          | 0.0       \n",
            "5     | 2          | 2              | 0.0        | 0.01          | 0.99      \n",
            "6     | 0          | 0              | 0.98       | 0.02          | 0.0       \n",
            "7     | 1          | 1              | 0.01       | 0.71          | 0.28      \n",
            "8     | 1          | 1              | 0.0        | 0.73          | 0.27      \n",
            "9     | 1          | 1              | 0.02       | 0.89          | 0.08      \n",
            "10    | 2          | 2              | 0.0        | 0.44          | 0.56      \n",
            "11    | 1          | 1              | 0.02       | 0.76          | 0.22      \n",
            "12    | 1          | 1              | 0.01       | 0.85          | 0.13      \n",
            "13    | 1          | 1              | 0.0        | 0.69          | 0.3       \n",
            "14    | 1          | 1              | 0.01       | 0.75          | 0.24      \n",
            "15    | 0          | 0              | 0.99       | 0.01          | 0.0       \n",
            "16    | 1          | 1              | 0.02       | 0.72          | 0.26      \n",
            "17    | 1          | 1              | 0.03       | 0.86          | 0.11      \n",
            "18    | 0          | 0              | 0.94       | 0.06          | 0.0       \n",
            "19    | 0          | 0              | 0.99       | 0.01          | 0.0       \n",
            "20    | 2          | 2              | 0.0        | 0.17          | 0.83      \n",
            "21    | 1          | 1              | 0.04       | 0.71          | 0.25      \n",
            "22    | 0          | 0              | 0.98       | 0.02          | 0.0       \n",
            "23    | 0          | 0              | 0.96       | 0.04          | 0.0       \n",
            "24    | 2          | 2              | 0.0        | 0.35          | 0.65      \n",
            "25    | 0          | 0              | 1.0        | 0.0           | 0.0       \n",
            "26    | 0          | 0              | 0.99       | 0.01          | 0.0       \n",
            "27    | 1          | 1              | 0.02       | 0.87          | 0.11      \n",
            "28    | 1          | 1              | 0.09       | 0.9           | 0.02      \n",
            "29    | 0          | 0              | 0.97       | 0.03          | 0.0       \n",
            "30    | 2          | 2              | 0.0        | 0.21          | 0.79      \n",
            "31    | 1          | 1              | 0.06       | 0.69          | 0.25      \n",
            "32    | 0          | 0              | 0.98       | 0.02          | 0.0       \n",
            "33    | 2          | 2              | 0.0        | 0.35          | 0.65      \n",
            "34    | 2          | 2              | 0.0        | 0.04          | 0.96      \n",
            "35    | 1          | 1              | 0.07       | 0.81          | 0.11      \n",
            "36    | 0          | 0              | 0.97       | 0.03          | 0.0       \n",
            "37    | 1          | 2              | 0.0        | 0.42          | 0.58      \n",
            "-------------------------------------------------------------------------------\n",
            "\n"
          ],
          "name": "stdout"
        }
      ]
    },
    {
      "cell_type": "markdown",
      "metadata": {
        "id": "uKC6QWrDCH59"
      },
      "source": [
        "# **Sources**\r\n",
        "\r\n",
        "*   https://medium.com/@kgpvijaybg/logistic-regression-on-iris-dataset-48b2ecdfb6d3\r\n",
        "\r\n",
        "*   https://github.com/GautamVijay/Logistic-Regression-on-IRIS-Dataset/blob/master/Logistic%20Regression%20(IRIS).ipynb\r\n",
        "\r\n",
        "\r\n",
        "\r\n",
        "*   https://randerson112358.medium.com/python-logistic-regression-program-5e1b32f964db\r\n",
        "\r\n",
        "\r\n",
        "\r\n"
      ]
    }
  ]
}